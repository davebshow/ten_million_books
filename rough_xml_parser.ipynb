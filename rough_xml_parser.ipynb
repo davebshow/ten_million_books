{
 "cells": [
  {
   "cell_type": "code",
   "execution_count": 3,
   "metadata": {
    "collapsed": false
   },
   "outputs": [],
   "source": [
    "import csv\n",
    "import string\n",
    "import xml.etree.ElementTree as ET"
   ]
  },
  {
   "cell_type": "code",
   "execution_count": 4,
   "metadata": {
    "collapsed": true
   },
   "outputs": [],
   "source": [
    "xml = '<record xmlns=\"http://www.loc.gov/MARC21/slim\" xmlns:xsi=\"http://www.w3.org/2001/XMLSchema-instance\" xsi:schemaLocation=\"http://www.loc.gov/MARC21/slim http://www.loc.gov/standards/marcxml/schema/MARC21slim.xsd\"><leader>00000cam a  00000Ia     </leader><controlfield tag=\"001\">1000686</controlfield><controlfield tag=\"008\">740906s1972    sp            000 0 spa d</controlfield><datafield tag=\"010\" ind1=\" \" ind2=\" \"><subfield code=\"a\">   74357424 </subfield></datafield><datafield tag=\"029\" ind1=\"1\" ind2=\" \"><subfield code=\"a\">AU@</subfield><subfield code=\"b\">000028090919</subfield></datafield><datafield tag=\"040\" ind1=\" \" ind2=\" \"><subfield code=\"a\">NAM</subfield><subfield code=\"b\">eng</subfield><subfield code=\"c\">NAM</subfield><subfield code=\"d\">GZM</subfield><subfield code=\"d\">OCL</subfield><subfield code=\"d\">OCLCQ</subfield></datafield><datafield tag=\"041\" ind1=\"1\" ind2=\" \"><subfield code=\"a\">spa</subfield><subfield code=\"h\">fre</subfield></datafield><datafield tag=\"050\" ind1=\" \" ind2=\"4\"><subfield code=\"a\">PQ2637.A9236</subfield><subfield code=\"b\">C5</subfield></datafield><datafield tag=\"100\" ind1=\"1\" ind2=\" \"><subfield code=\"a\">Sauvajon, Marc-Gilbert.</subfield></datafield><datafield tag=\"245\" ind1=\"1\" ind2=\"0\"><subfield code=\"a\">Chao! /</subfield><subfield code=\"c\">Comedia en dos actos ... de Marc-Gilbert Sauvajon. Adaptación castellana de Vicente Balart.</subfield></datafield><datafield tag=\"260\" ind1=\" \" ind2=\" \"><subfield code=\"a\">[Madrid] :</subfield><subfield code=\"b\">Escelicer,</subfield><subfield code=\"c\">[1972]</subfield></datafield><datafield tag=\"300\" ind1=\" \" ind2=\" \"><subfield code=\"a\">85 pages ;</subfield><subfield code=\"c\">16 cm.</subfield></datafield><datafield tag=\"336\" ind1=\" \" ind2=\" \"><subfield code=\"a\">text</subfield><subfield code=\"b\">txt</subfield><subfield code=\"2\">rdacontent</subfield></datafield><datafield tag=\"337\" ind1=\" \" ind2=\" \"><subfield code=\"a\">unmediated</subfield><subfield code=\"b\">n</subfield><subfield code=\"2\">rdamedia</subfield></datafield><datafield tag=\"338\" ind1=\" \" ind2=\" \"><subfield code=\"a\">volume</subfield><subfield code=\"b\">nc</subfield><subfield code=\"2\">rdacarrier</subfield></datafield><datafield tag=\"490\" ind1=\"0\" ind2=\" \"><subfield code=\"a\">Colección Teatro ;</subfield><subfield code=\"v\">734</subfield></datafield><datafield tag=\"700\" ind1=\"1\" ind2=\" \"><subfield code=\"a\">Balart, Vicente.</subfield></datafield><datafield tag=\"776\" ind1=\"0\" ind2=\"8\"><subfield code=\"i\">Online version:</subfield><subfield code=\"a\">Sauvajon, Marc-Gilbert.</subfield><subfield code=\"t\">Chao!</subfield><subfield code=\"d\">[Madrid] Escelicer, [1972]</subfield><subfield code=\"w\">(OCoLC)659093459</subfield></datafield></record>\t'"
   ]
  },
  {
   "cell_type": "code",
   "execution_count": 5,
   "metadata": {
    "collapsed": true
   },
   "outputs": [],
   "source": [
    "elem = ET.fromstring(xml)"
   ]
  },
  {
   "cell_type": "code",
   "execution_count": 6,
   "metadata": {
    "collapsed": false
   },
   "outputs": [],
   "source": [
    "child = elem.getchildren()"
   ]
  },
  {
   "cell_type": "code",
   "execution_count": 7,
   "metadata": {
    "collapsed": false
   },
   "outputs": [
    {
     "data": {
      "text/plain": [
       "{'tag': '001'}"
      ]
     },
     "execution_count": 7,
     "metadata": {},
     "output_type": "execute_result"
    }
   ],
   "source": [
    "child[1].attrib"
   ]
  },
  {
   "cell_type": "code",
   "execution_count": 8,
   "metadata": {
    "collapsed": false
   },
   "outputs": [
    {
     "data": {
      "text/plain": [
       "'1000686'"
      ]
     },
     "execution_count": 8,
     "metadata": {},
     "output_type": "execute_result"
    }
   ],
   "source": [
    "child[1].text"
   ]
  },
  {
   "cell_type": "code",
   "execution_count": 9,
   "metadata": {
    "collapsed": false
   },
   "outputs": [
    {
     "data": {
      "text/plain": [
       "{'ind1': '1', 'ind2': ' ', 'tag': '029'}"
      ]
     },
     "execution_count": 9,
     "metadata": {},
     "output_type": "execute_result"
    }
   ],
   "source": [
    "child[4].attrib"
   ]
  },
  {
   "cell_type": "code",
   "execution_count": 10,
   "metadata": {
    "collapsed": false
   },
   "outputs": [
    {
     "data": {
      "text/plain": [
       "0"
      ]
     },
     "execution_count": 10,
     "metadata": {},
     "output_type": "execute_result"
    }
   ],
   "source": [
    "1500000 % 50000"
   ]
  },
  {
   "cell_type": "code",
   "execution_count": 11,
   "metadata": {
    "collapsed": false
   },
   "outputs": [],
   "source": [
    "# This is a hack for now, will write real python three marc record parser\n",
    "def write_tsv(marc_file, out_file):\n",
    "    out_file = open(out_file, 'w')\n",
    "    writer = csv.writer(out_file, delimiter='\\t')\n",
    "    header = ['control_number', 'title', 'uniform_title', 'author',\n",
    "              'publisher', 'pub_location', 'pub_year', 'translation',\n",
    "              'prev_language']\n",
    "    writer.writerow(header)\n",
    "    with open(marc_file, 'r') as f:\n",
    "        for i, line in enumerate(f):\n",
    "            if not i % 500000 and i != 0:\n",
    "                print(\"processed {} records\".format(i))\n",
    "            # Default values\n",
    "            control_number = None\n",
    "            title = None\n",
    "            uniformtitle = None\n",
    "            author = None\n",
    "#             location = None\n",
    "            publisher = None\n",
    "            pubplace = None\n",
    "            pubyear = None\n",
    "            trans = False\n",
    "            original = None\n",
    "\n",
    "\n",
    "            elem = ET.fromstring(line)\n",
    "            children = list(elem)\n",
    "            for child in children:\n",
    "                attrs = child.attrib\n",
    "                tag = attrs.get(\"tag\", \"\")\n",
    "                if tag:\n",
    "                    # Control number\n",
    "                    if tag == \"001\":\n",
    "                        control_number = child.text.strip(string.punctuation).strip().strip(string.punctuation)\n",
    "                        \n",
    "                    # Title \n",
    "                    elif tag == \"245\":\n",
    "                        grandchildren = list(child)\n",
    "                        for grandchild in grandchildren:\n",
    "                            gattrs = grandchild.attrib\n",
    "                            code = gattrs.get(\"code\", \"\")\n",
    "                            if code == \"a\":\n",
    "                                title = grandchild.text.strip(string.punctuation).strip().strip(string.punctuation)\n",
    "                            elif code == \"b\" and title is not None:\n",
    "                                title += grandchild.text.strip(string.punctuation).strip().strip(string.punctuation)\n",
    "                                title = title.rstrip(\"/\")\n",
    "                    \n",
    "                    # Uniformtitle\n",
    "                    elif (tag == \"130\" or tag == \"240\") and uniformtitle is None:\n",
    "                        grandchildren = list(child)\n",
    "                        for grandchild in grandchildren:\n",
    "                            gattrs = grandchild.attrib\n",
    "                            code = gattrs.get(\"code\", \"\")\n",
    "                            if code == \"a\":\n",
    "                                uniformtitle = grandchild.text.strip(string.punctuation).strip().strip(string.punctuation)\n",
    "                                \n",
    "                    # Author\n",
    "                    \n",
    "                    elif (tag == \"100\" or tag == \"110\" or tag == \"111\") and author is None:\n",
    "                        grandchildren = list(child)\n",
    "                        for grandchild in grandchildren:\n",
    "                            gattrs = grandchild.attrib\n",
    "                            code = gattrs.get(\"code\", \"\")\n",
    "                            if code == \"a\":\n",
    "                                author = grandchild.text.strip(string.punctuation).strip().strip(string.punctuation)\n",
    "                                \n",
    "#                     elif tag == \"852\":\n",
    "#                         grandchildren = list(child)\n",
    "#                         for grandchild in grandchildren:\n",
    "#                             gattrs = grandchild.attrib\n",
    "#                             code = gattrs.get(\"code\", \"\")\n",
    "#                             if code == \"a\":\n",
    "#                                 location = grandchild.text.strip(string.punctuation).strip().strip(string.punctuation) \n",
    "                                \n",
    "                    elif tag == \"260\" or (tag == \"264\" and attrs.get(\"ind1\", \"\") == \"1\"):\n",
    "                        grandchildren = list(child)\n",
    "                        for grandchild in grandchildren:\n",
    "                            gattrs = grandchild.attrib\n",
    "                            code = gattrs.get(\"code\", \"\")\n",
    "                            if code == \"a\":\n",
    "                                pubplace = grandchild.text.strip(string.punctuation).strip().strip(string.punctuation)    \n",
    "                            if code == \"b\":\n",
    "                                publisher = grandchild.text.strip(string.punctuation).strip().strip(string.punctuation)\n",
    "                            if code == \"c\":\n",
    "                                pubyear = grandchild.text.strip(string.punctuation).strip().strip(string.punctuation)\n",
    "                                pubyear = pubyear.lstrip(\"©\")\n",
    "                    # Language info\n",
    "                    elif tag == \"041\":\n",
    "                        \n",
    "                        indicator1 = attrs.get(\"ind1\", \"\")\n",
    "                        if indicator1 == \"1\":\n",
    "                            trans = True\n",
    "                            grandchildren = list(child)\n",
    "                            for grandchild in grandchildren:\n",
    "                                gattrs = grandchild.attrib\n",
    "                                code = gattrs.get(\"code\", \"\")\n",
    "                                if code == \"h\":\n",
    "                                    original = grandchild.text.strip(string.punctuation).strip().strip(string.punctuation)\n",
    "    \n",
    "            row = [control_number, title, uniformtitle, author,\n",
    "                   publisher, pubplace, pubyear, trans, original]\n",
    "            writer.writerow(row)\n",
    "    out_file.close()"
   ]
  },
  {
   "cell_type": "code",
   "execution_count": 12,
   "metadata": {
    "collapsed": false
   },
   "outputs": [
    {
     "name": "stdout",
     "output_type": "stream",
     "text": [
      "processed 500000 records\n",
      "processed 1000000 records\n",
      "processed 1500000 records\n",
      "processed 2000000 records\n",
      "processed 2500000 records\n",
      "processed 3000000 records\n",
      "processed 3500000 records\n",
      "processed 4000000 records\n",
      "processed 4500000 records\n",
      "processed 5000000 records\n",
      "processed 5500000 records\n",
      "processed 6000000 records\n",
      "processed 6500000 records\n",
      "processed 7000000 records\n",
      "processed 7500000 records\n",
      "processed 8000000 records\n",
      "processed 8500000 records\n",
      "processed 9000000 records\n",
      "processed 9500000 records\n",
      "processed 10000000 records\n",
      "processed 10500000 records\n",
      "processed 11000000 records\n",
      "processed 11500000 records\n",
      "processed 12000000 records\n",
      "processed 12500000 records\n",
      "processed 13000000 records\n"
     ]
    }
   ],
   "source": [
    "write_tsv('data/spanish.xml', 'data/output.tsv')"
   ]
  },
  {
   "cell_type": "code",
   "execution_count": null,
   "metadata": {
    "collapsed": true
   },
   "outputs": [],
   "source": []
  }
 ],
 "metadata": {
  "kernelspec": {
   "display_name": "Python 3",
   "language": "python",
   "name": "python3"
  },
  "language_info": {
   "codemirror_mode": {
    "name": "ipython",
    "version": 3
   },
   "file_extension": ".py",
   "mimetype": "text/x-python",
   "name": "python",
   "nbconvert_exporter": "python",
   "pygments_lexer": "ipython3",
   "version": "3.4.0"
  }
 },
 "nbformat": 4,
 "nbformat_minor": 0
}
