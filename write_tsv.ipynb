{
 "cells": [
  {
   "cell_type": "code",
   "execution_count": 1,
   "metadata": {
    "collapsed": false
   },
   "outputs": [],
   "source": [
    "import csv\n",
    "import xml.etree.ElementTree as ET"
   ]
  },
  {
   "cell_type": "code",
   "execution_count": 2,
   "metadata": {
    "collapsed": true
   },
   "outputs": [],
   "source": [
    "xml = '<record xmlns=\"http://www.loc.gov/MARC21/slim\" xmlns:xsi=\"http://www.w3.org/2001/XMLSchema-instance\" xsi:schemaLocation=\"http://www.loc.gov/MARC21/slim http://www.loc.gov/standards/marcxml/schema/MARC21slim.xsd\"><leader>00000cam a  00000Ia     </leader><controlfield tag=\"001\">1000686</controlfield><controlfield tag=\"008\">740906s1972    sp            000 0 spa d</controlfield><datafield tag=\"010\" ind1=\" \" ind2=\" \"><subfield code=\"a\">   74357424 </subfield></datafield><datafield tag=\"029\" ind1=\"1\" ind2=\" \"><subfield code=\"a\">AU@</subfield><subfield code=\"b\">000028090919</subfield></datafield><datafield tag=\"040\" ind1=\" \" ind2=\" \"><subfield code=\"a\">NAM</subfield><subfield code=\"b\">eng</subfield><subfield code=\"c\">NAM</subfield><subfield code=\"d\">GZM</subfield><subfield code=\"d\">OCL</subfield><subfield code=\"d\">OCLCQ</subfield></datafield><datafield tag=\"041\" ind1=\"1\" ind2=\" \"><subfield code=\"a\">spa</subfield><subfield code=\"h\">fre</subfield></datafield><datafield tag=\"050\" ind1=\" \" ind2=\"4\"><subfield code=\"a\">PQ2637.A9236</subfield><subfield code=\"b\">C5</subfield></datafield><datafield tag=\"100\" ind1=\"1\" ind2=\" \"><subfield code=\"a\">Sauvajon, Marc-Gilbert.</subfield></datafield><datafield tag=\"245\" ind1=\"1\" ind2=\"0\"><subfield code=\"a\">Chao! /</subfield><subfield code=\"c\">Comedia en dos actos ... de Marc-Gilbert Sauvajon. Adaptación castellana de Vicente Balart.</subfield></datafield><datafield tag=\"260\" ind1=\" \" ind2=\" \"><subfield code=\"a\">[Madrid] :</subfield><subfield code=\"b\">Escelicer,</subfield><subfield code=\"c\">[1972]</subfield></datafield><datafield tag=\"300\" ind1=\" \" ind2=\" \"><subfield code=\"a\">85 pages ;</subfield><subfield code=\"c\">16 cm.</subfield></datafield><datafield tag=\"336\" ind1=\" \" ind2=\" \"><subfield code=\"a\">text</subfield><subfield code=\"b\">txt</subfield><subfield code=\"2\">rdacontent</subfield></datafield><datafield tag=\"337\" ind1=\" \" ind2=\" \"><subfield code=\"a\">unmediated</subfield><subfield code=\"b\">n</subfield><subfield code=\"2\">rdamedia</subfield></datafield><datafield tag=\"338\" ind1=\" \" ind2=\" \"><subfield code=\"a\">volume</subfield><subfield code=\"b\">nc</subfield><subfield code=\"2\">rdacarrier</subfield></datafield><datafield tag=\"490\" ind1=\"0\" ind2=\" \"><subfield code=\"a\">Colección Teatro ;</subfield><subfield code=\"v\">734</subfield></datafield><datafield tag=\"700\" ind1=\"1\" ind2=\" \"><subfield code=\"a\">Balart, Vicente.</subfield></datafield><datafield tag=\"776\" ind1=\"0\" ind2=\"8\"><subfield code=\"i\">Online version:</subfield><subfield code=\"a\">Sauvajon, Marc-Gilbert.</subfield><subfield code=\"t\">Chao!</subfield><subfield code=\"d\">[Madrid] Escelicer, [1972]</subfield><subfield code=\"w\">(OCoLC)659093459</subfield></datafield></record>\t'"
   ]
  },
  {
   "cell_type": "code",
   "execution_count": 3,
   "metadata": {
    "collapsed": true
   },
   "outputs": [],
   "source": [
    "elem = ET.fromstring(xml)"
   ]
  },
  {
   "cell_type": "code",
   "execution_count": 16,
   "metadata": {
    "collapsed": false
   },
   "outputs": [],
   "source": [
    "child = elem.getchildren()"
   ]
  },
  {
   "cell_type": "code",
   "execution_count": 29,
   "metadata": {
    "collapsed": false
   },
   "outputs": [
    {
     "data": {
      "text/plain": [
       "{'tag': '001'}"
      ]
     },
     "execution_count": 29,
     "metadata": {},
     "output_type": "execute_result"
    }
   ],
   "source": [
    "child[1].attrib"
   ]
  },
  {
   "cell_type": "code",
   "execution_count": 28,
   "metadata": {
    "collapsed": false
   },
   "outputs": [
    {
     "data": {
      "text/plain": [
       "'1000686'"
      ]
     },
     "execution_count": 28,
     "metadata": {},
     "output_type": "execute_result"
    }
   ],
   "source": [
    "child[1].text"
   ]
  },
  {
   "cell_type": "code",
   "execution_count": 25,
   "metadata": {
    "collapsed": false
   },
   "outputs": [
    {
     "data": {
      "text/plain": [
       "{'ind1': '1', 'ind2': ' ', 'tag': '029'}"
      ]
     },
     "execution_count": 25,
     "metadata": {},
     "output_type": "execute_result"
    }
   ],
   "source": [
    "child[4].attrib"
   ]
  },
  {
   "cell_type": "code",
   "execution_count": 35,
   "metadata": {
    "collapsed": true
   },
   "outputs": [],
   "source": [
    "def write_tsv(marc_file, out_file):\n",
    "    out_file = open(out_file, 'w')\n",
    "    writer = csv.writer(out_file, delimiter='\\t')\n",
    "    header = ['control_number', 'title', 'uniform_title', 'author',\n",
    "              'location', 'publisher', 'pub_location', 'pub_year', 'translation',\n",
    "              'prev_language']\n",
    "    writer.writerow(header)\n",
    "    with open(marc_file, 'r') as f:\n",
    "        for line in f:\n",
    "            elem = ET.fromstring(line)\n",
    "            children = elem.getchildren()\n",
    "            for child in children:\n",
    "                attrs = child.attrib\n",
    "                tag = attrs.get(\"tag\", \"\")\n",
    "                if tag:\n",
    "                    if tag == \"001\":\n",
    "                        control_number = child.text\n",
    "                    elif tag == \n",
    "                    print(tag)\n",
    "                \n",
    "#             if lang:\n",
    "#                 if lang.indicator1 == \"1\":\n",
    "#                     trans = True\n",
    "#                 else:\n",
    "#                     trans = False\n",
    "#                 if trans:\n",
    "#                     original = r[\"41\"][\"h\"]\n",
    "#             else:\n",
    "#                 trans = False\n",
    "#                 original = None\n",
    "#             row = [control_number, title, uniformtitle, author,\n",
    "#                    location, publisher, pubplace, pubyear, trans, original]\n",
    "#             writer.writerow(row)\n",
    "    out_file.close()"
   ]
  },
  {
   "cell_type": "code",
   "execution_count": 36,
   "metadata": {
    "collapsed": false
   },
   "outputs": [
    {
     "name": "stdout",
     "output_type": "stream",
     "text": [
      "001\n",
      "008\n",
      "010\n",
      "029\n",
      "040\n",
      "041\n",
      "050\n",
      "100\n",
      "245\n",
      "260\n",
      "300\n",
      "336\n",
      "337\n",
      "338\n",
      "490\n",
      "700\n",
      "776\n",
      "001\n",
      "008\n",
      "040\n",
      "043\n",
      "050\n",
      "082\n",
      "100\n",
      "245\n",
      "260\n",
      "300\n",
      "336\n",
      "337\n",
      "338\n",
      "490\n",
      "504\n",
      "648\n",
      "650\n",
      "651\n",
      "651\n",
      "776\n",
      "830\n",
      "001\n",
      "008\n",
      "010\n",
      "019\n",
      "040\n",
      "043\n",
      "050\n",
      "082\n",
      "100\n",
      "245\n",
      "260\n",
      "300\n",
      "336\n",
      "337\n",
      "338\n",
      "650\n",
      "650\n",
      "650\n",
      "655\n",
      "001\n",
      "008\n",
      "010\n",
      "040\n",
      "043\n",
      "050\n",
      "082\n",
      "100\n",
      "245\n",
      "260\n",
      "300\n",
      "336\n",
      "337\n",
      "338\n",
      "500\n",
      "504\n",
      "650\n",
      "650\n",
      "650\n",
      "650\n",
      "650\n",
      "650\n",
      "650\n",
      "650\n",
      "650\n",
      "651\n",
      "651\n",
      "655\n",
      "001\n",
      "008\n",
      "010\n",
      "019\n",
      "020\n",
      "029\n",
      "029\n",
      "040\n",
      "043\n",
      "050\n",
      "082\n",
      "100\n",
      "245\n",
      "250\n",
      "260\n",
      "300\n",
      "336\n",
      "337\n",
      "338\n",
      "490\n",
      "500\n",
      "504\n",
      "648\n",
      "650\n",
      "650\n",
      "650\n",
      "651\n",
      "651\n",
      "651\n",
      "651\n",
      "776\n",
      "830\n",
      "001\n",
      "008\n",
      "010\n",
      "029\n",
      "040\n",
      "043\n",
      "050\n",
      "082\n",
      "100\n",
      "245\n",
      "260\n",
      "300\n",
      "336\n",
      "337\n",
      "338\n",
      "504\n",
      "650\n",
      "650\n",
      "650\n",
      "650\n",
      "650\n",
      "650\n",
      "650\n",
      "651\n",
      "001\n",
      "008\n",
      "040\n",
      "041\n",
      "082\n",
      "245\n",
      "260\n",
      "300\n",
      "336\n",
      "337\n",
      "338\n",
      "490\n",
      "650\n",
      "650\n",
      "655\n",
      "001\n",
      "008\n",
      "010\n",
      "020\n",
      "020\n",
      "040\n",
      "043\n",
      "050\n",
      "082\n",
      "100\n",
      "245\n",
      "260\n",
      "300\n",
      "336\n",
      "337\n",
      "338\n",
      "504\n",
      "648\n",
      "650\n",
      "650\n",
      "650\n",
      "651\n",
      "651\n",
      "776\n",
      "001\n",
      "008\n",
      "040\n",
      "100\n",
      "245\n",
      "260\n",
      "300\n",
      "336\n",
      "337\n",
      "338\n",
      "001\n",
      "008\n",
      "040\n",
      "043\n",
      "100\n",
      "245\n",
      "260\n",
      "300\n",
      "336\n",
      "337\n",
      "338\n",
      "500\n",
      "533\n",
      "611\n",
      "648\n",
      "651\n",
      "651\n",
      "655\n"
     ]
    }
   ],
   "source": [
    "write_tsv('data/sample.xml', 'test_output.tsv')"
   ]
  },
  {
   "cell_type": "code",
   "execution_count": null,
   "metadata": {
    "collapsed": true
   },
   "outputs": [],
   "source": []
  }
 ],
 "metadata": {
  "kernelspec": {
   "display_name": "Python 3",
   "language": "python",
   "name": "python3"
  },
  "language_info": {
   "codemirror_mode": {
    "name": "ipython",
    "version": 3
   },
   "file_extension": ".py",
   "mimetype": "text/x-python",
   "name": "python",
   "nbconvert_exporter": "python",
   "pygments_lexer": "ipython3",
   "version": "3.4.0"
  }
 },
 "nbformat": 4,
 "nbformat_minor": 0
}
