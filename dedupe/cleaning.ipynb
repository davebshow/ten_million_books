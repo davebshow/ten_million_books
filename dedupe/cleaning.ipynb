{
 "cells": [
  {
   "cell_type": "code",
   "execution_count": 1,
   "metadata": {
    "collapsed": false
   },
   "outputs": [],
   "source": [
    "%matplotlib inline\n",
    "import csv\n",
    "import numpy as np\n",
    "import pandas as pd\n",
    "import matplotlib.pyplot as plt"
   ]
  },
  {
   "cell_type": "code",
   "execution_count": 2,
   "metadata": {
    "collapsed": true
   },
   "outputs": [],
   "source": [
    "infile = \"small_sample.csv\"\n",
    "bf_outfile = \"both_fields.csv\"\n",
    "full_outfile = \"full_outfile.csv\"\n",
    "final_outfile = \"final_outfile.csv\"\n",
    "last_infile = \"final_outfile.csv\""
   ]
  },
  {
   "cell_type": "code",
   "execution_count": 3,
   "metadata": {
    "collapsed": false
   },
   "outputs": [
    {
     "data": {
      "text/html": [
       "<div style=\"max-height:1000px;max-width:1500px;overflow:auto;\">\n",
       "<table border=\"1\" class=\"dataframe\">\n",
       "  <thead>\n",
       "    <tr style=\"text-align: right;\">\n",
       "      <th></th>\n",
       "      <th>Id</th>\n",
       "      <th>City</th>\n",
       "      <th>Country</th>\n",
       "    </tr>\n",
       "  </thead>\n",
       "  <tbody>\n",
       "    <tr>\n",
       "      <th>0</th>\n",
       "      <td> 0</td>\n",
       "      <td>        Madrid</td>\n",
       "      <td>     España</td>\n",
       "    </tr>\n",
       "    <tr>\n",
       "      <th>1</th>\n",
       "      <td> 1</td>\n",
       "      <td>       Bogotá</td>\n",
       "      <td>        NaN</td>\n",
       "    </tr>\n",
       "    <tr>\n",
       "      <th>2</th>\n",
       "      <td> 2</td>\n",
       "      <td>      Santiago</td>\n",
       "      <td>      Chile</td>\n",
       "    </tr>\n",
       "    <tr>\n",
       "      <th>3</th>\n",
       "      <td> 3</td>\n",
       "      <td> Ponta Delgada</td>\n",
       "      <td>        NaN</td>\n",
       "    </tr>\n",
       "    <tr>\n",
       "      <th>4</th>\n",
       "      <td> 4</td>\n",
       "      <td>  Buenos Aires</td>\n",
       "      <td>  Argentina</td>\n",
       "    </tr>\n",
       "  </tbody>\n",
       "</table>\n",
       "</div>"
      ],
      "text/plain": [
       "   Id           City     Country\n",
       "0   0         Madrid      España\n",
       "1   1        Bogotá         NaN\n",
       "2   2       Santiago       Chile\n",
       "3   3  Ponta Delgada         NaN\n",
       "4   4   Buenos Aires   Argentina"
      ]
     },
     "execution_count": 3,
     "metadata": {},
     "output_type": "execute_result"
    }
   ],
   "source": [
    "df = pd.read_csv(infile)\n",
    "df.head()"
   ]
  },
  {
   "cell_type": "code",
   "execution_count": 4,
   "metadata": {
    "collapsed": false
   },
   "outputs": [
    {
     "data": {
      "text/plain": [
       "250"
      ]
     },
     "execution_count": 4,
     "metadata": {},
     "output_type": "execute_result"
    }
   ],
   "source": [
    "row_map = df.groupby([\"City\", \"Country\"])\n",
    "len(row_map.groups)"
   ]
  },
  {
   "cell_type": "code",
   "execution_count": 5,
   "metadata": {
    "collapsed": false
   },
   "outputs": [
    {
     "data": {
      "text/html": [
       "<div style=\"max-height:1000px;max-width:1500px;overflow:auto;\">\n",
       "<table border=\"1\" class=\"dataframe\">\n",
       "  <thead>\n",
       "    <tr style=\"text-align: right;\">\n",
       "      <th></th>\n",
       "      <th>Id</th>\n",
       "      <th>City</th>\n",
       "      <th>Country</th>\n",
       "    </tr>\n",
       "  </thead>\n",
       "  <tbody>\n",
       "    <tr>\n",
       "      <th>0</th>\n",
       "      <td> 0</td>\n",
       "      <td>       Madrid</td>\n",
       "      <td>     España</td>\n",
       "    </tr>\n",
       "    <tr>\n",
       "      <th>2</th>\n",
       "      <td> 2</td>\n",
       "      <td>     Santiago</td>\n",
       "      <td>      Chile</td>\n",
       "    </tr>\n",
       "    <tr>\n",
       "      <th>4</th>\n",
       "      <td> 4</td>\n",
       "      <td> Buenos Aires</td>\n",
       "      <td>  Argentina</td>\n",
       "    </tr>\n",
       "    <tr>\n",
       "      <th>5</th>\n",
       "      <td> 5</td>\n",
       "      <td> Buenos Aires</td>\n",
       "      <td>  Argentina</td>\n",
       "    </tr>\n",
       "    <tr>\n",
       "      <th>7</th>\n",
       "      <td> 7</td>\n",
       "      <td>  Rio Piedras</td>\n",
       "      <td>       P.R.</td>\n",
       "    </tr>\n",
       "  </tbody>\n",
       "</table>\n",
       "</div>"
      ],
      "text/plain": [
       "   Id          City     Country\n",
       "0   0        Madrid      España\n",
       "2   2      Santiago       Chile\n",
       "4   4  Buenos Aires   Argentina\n",
       "5   5  Buenos Aires   Argentina\n",
       "7   7   Rio Piedras        P.R."
      ]
     },
     "execution_count": 5,
     "metadata": {},
     "output_type": "execute_result"
    }
   ],
   "source": [
    "both_fields = df.dropna()\n",
    "both_fields.head()"
   ]
  },
  {
   "cell_type": "code",
   "execution_count": 6,
   "metadata": {
    "collapsed": false
   },
   "outputs": [
    {
     "data": {
      "text/plain": [
       "104"
      ]
     },
     "execution_count": 6,
     "metadata": {},
     "output_type": "execute_result"
    }
   ],
   "source": [
    "bf_groups = both_fields.groupby([\"City\", \"Country\"])\n",
    "len(bf_groups.groups)"
   ]
  },
  {
   "cell_type": "code",
   "execution_count": 7,
   "metadata": {
    "collapsed": false
   },
   "outputs": [],
   "source": [
    "with open(bf_outfile, \"w\") as f:\n",
    "    writer = csv.writer(f)\n",
    "    writer.writerow([\"Id\", \"City\", \"Country\"])\n",
    "    for i, (city, country) in enumerate(bf_groups.groups.keys()):\n",
    "        writer.writerow([i, city, country])"
   ]
  },
  {
   "cell_type": "code",
   "execution_count": 8,
   "metadata": {
    "collapsed": false
   },
   "outputs": [
    {
     "name": "stdout",
     "output_type": "stream",
     "text": [
      "INFO:root:Generating grammar tables from /usr/lib/python3.4/lib2to3/Grammar.txt\n",
      "INFO:root:Generating grammar tables from /usr/lib/python3.4/lib2to3/PatternGrammar.txt\n",
      "input file:  full_outfile.csv\n",
      "importing data ...\n",
      "reading from settings/full_learned_settings\n",
      "INFO:dedupe.api:Learned Weights\n",
      "INFO:dedupe.api:('(City: String)', -2.2533092198583144)\n",
      "INFO:dedupe.api:('(Country: String)', -0.06505061016340563)\n",
      "INFO:dedupe.api:('((City: String): Not Missing)', 1.2548415818237795)\n",
      "INFO:dedupe.api:('((Country: String): Not Missing)', -0.12959618257781477)\n",
      "INFO:dedupe.api:('bias', 1.1142048722686542)\n",
      "INFO:dedupe.api:(CompoundPredicate: (SimplePredicate: (firstTokenPredicate, City), TfidfNGramCanopyPredicate: (0.4, City)), CompoundPredicate: (SimplePredicate: (sortedAcronym, City), TfidfNGramCanopyPredicate: (0.4, City)))\n",
      "INFO:dedupe.api:{'City': {'TfidfNGramCanopyPredicate': set()}}\n",
      "blocking...\n",
      "INFO:dedupe.blocking:Canopy: TfidfNGramCanopyPredicate: (0.4, City)\n",
      "INFO:dedupe.api:0 blocks\n",
      "INFO:dedupe.api:Maximum expected recall and precision\n",
      "INFO:dedupe.api:recall: 0.984\n",
      "INFO:dedupe.api:precision: 0.672\n",
      "INFO:dedupe.api:With threshold: 0.221\n",
      "clustering...\n",
      "INFO:dedupe.blocking:Canopy: TfidfNGramCanopyPredicate: (0.4, City)\n",
      "INFO:dedupe.api:0 blocks\n",
      "# duplicate sets 40\n",
      "finding canonical\n",
      "writing file...:  full_output.csv\n"
     ]
    }
   ],
   "source": [
    "!python csv_dedupe.py -v"
   ]
  },
  {
   "cell_type": "code",
   "execution_count": 8,
   "metadata": {
    "collapsed": false
   },
   "outputs": [
    {
     "data": {
      "text/html": [
       "<div style=\"max-height:1000px;max-width:1500px;overflow:auto;\">\n",
       "<table border=\"1\" class=\"dataframe\">\n",
       "  <thead>\n",
       "    <tr style=\"text-align: right;\">\n",
       "      <th></th>\n",
       "      <th>Cluster ID</th>\n",
       "      <th>confidence_score</th>\n",
       "      <th>Id</th>\n",
       "      <th>City</th>\n",
       "      <th>Country</th>\n",
       "      <th>canonical_City</th>\n",
       "      <th>canonical_Id</th>\n",
       "      <th>canonical_Country</th>\n",
       "    </tr>\n",
       "  </thead>\n",
       "  <tbody>\n",
       "    <tr>\n",
       "      <th>0</th>\n",
       "      <td> 20</td>\n",
       "      <td>          </td>\n",
       "      <td> 0</td>\n",
       "      <td>  Veracruz</td>\n",
       "      <td>    México</td>\n",
       "      <td>          </td>\n",
       "      <td>  </td>\n",
       "      <td>          </td>\n",
       "    </tr>\n",
       "    <tr>\n",
       "      <th>1</th>\n",
       "      <td>  1</td>\n",
       "      <td>  0.925403</td>\n",
       "      <td> 1</td>\n",
       "      <td>   Managua</td>\n",
       "      <td>  Nicaragua</td>\n",
       "      <td>   managua</td>\n",
       "      <td> 1</td>\n",
       "      <td> nicaragua</td>\n",
       "    </tr>\n",
       "    <tr>\n",
       "      <th>2</th>\n",
       "      <td> 21</td>\n",
       "      <td>          </td>\n",
       "      <td> 2</td>\n",
       "      <td>    Puebla</td>\n",
       "      <td>       Méx</td>\n",
       "      <td>          </td>\n",
       "      <td>  </td>\n",
       "      <td>          </td>\n",
       "    </tr>\n",
       "    <tr>\n",
       "      <th>3</th>\n",
       "      <td>  2</td>\n",
       "      <td> 0.9615852</td>\n",
       "      <td> 3</td>\n",
       "      <td> Barcelona</td>\n",
       "      <td>     España</td>\n",
       "      <td> barcelona</td>\n",
       "      <td> 3</td>\n",
       "      <td>    espana</td>\n",
       "    </tr>\n",
       "    <tr>\n",
       "      <th>4</th>\n",
       "      <td> 22</td>\n",
       "      <td>          </td>\n",
       "      <td> 4</td>\n",
       "      <td> Jiquilpan</td>\n",
       "      <td>    México</td>\n",
       "      <td>          </td>\n",
       "      <td>  </td>\n",
       "      <td>          </td>\n",
       "    </tr>\n",
       "  </tbody>\n",
       "</table>\n",
       "</div>"
      ],
      "text/plain": [
       "   Cluster ID confidence_score  Id       City     Country canonical_City  \\\n",
       "0          20                    0   Veracruz     México                  \n",
       "1           1         0.925403   1    Managua   Nicaragua        managua   \n",
       "2          21                    2     Puebla        Méx                  \n",
       "3           2        0.9615852   3  Barcelona      España      barcelona   \n",
       "4          22                    4  Jiquilpan     México                  \n",
       "\n",
       "  canonical_Id canonical_Country  \n",
       "0                                 \n",
       "1            1         nicaragua  \n",
       "2                                 \n",
       "3            3            espana  \n",
       "4                                 "
      ]
     },
     "execution_count": 8,
     "metadata": {},
     "output_type": "execute_result"
    }
   ],
   "source": [
    "bf_output = pd.read_csv(\"both_fields_output.csv\").fillna(\"\")\n",
    "bf_output.head()"
   ]
  },
  {
   "cell_type": "code",
   "execution_count": 9,
   "metadata": {
    "collapsed": false
   },
   "outputs": [],
   "source": [
    "# bf_output[\"confidence_score\"].mean()"
   ]
  },
  {
   "cell_type": "code",
   "execution_count": 10,
   "metadata": {
    "collapsed": false
   },
   "outputs": [
    {
     "data": {
      "text/plain": [
       "dict_keys([('etc', 'san salvador'), ('republica dominicana', 'santiago'), ('espana', 'barcelona'), ('colombia', 'bogota'), ('republica dominicana', 'santo domingo'), ('d.f', 'mexico'), ('venezuela', 'merida'), ('guatemala', 'guatemala'), ('nicaragua', 'managua'), ('estado de mexico', 'toluca'), ('brasil', 'sao paulo'), ('barcelona', 'esplugues de llobregat'), ('', ''), ('rep. de p', 'panama'), ('peru', 'lima'), ('brasil', 'rio de janeiro'), ('espana', 'madrid'), ('brazil', 'brasilia'), ('p.r.', 'rio piedras'), ('costa rica', 'san jose'), ('rep. oriental del uruguay', 'montevideo')])"
      ]
     },
     "execution_count": 10,
     "metadata": {},
     "output_type": "execute_result"
    }
   ],
   "source": [
    "bf_output_groups = bf_output.groupby([\"canonical_Country\", \"canonical_City\"])\n",
    "bf_output_groups.groups.keys()"
   ]
  },
  {
   "cell_type": "code",
   "execution_count": 11,
   "metadata": {
    "collapsed": false
   },
   "outputs": [
    {
     "data": {
      "text/plain": [
       "250"
      ]
     },
     "execution_count": 11,
     "metadata": {},
     "output_type": "execute_result"
    }
   ],
   "source": [
    "new_df = df.fillna(\"\")\n",
    "row_map = new_df.groupby([\"City\", \"Country\"])\n",
    "len(row_map.groups)"
   ]
  },
  {
   "cell_type": "code",
   "execution_count": 12,
   "metadata": {
    "collapsed": false
   },
   "outputs": [],
   "source": [
    "def map_merge(row_map, canonicals):\n",
    "    for row in canonicals.iterrows():\n",
    "        row = row[1]\n",
    "        can_key = (row[\"canonical_City\"], row[\"canonical_Country\"])\n",
    "        if can_key[0] or can_key[1]:\n",
    "#             print(can_key[0], can_key[1])\n",
    "            key = (row[\"City\"], row[\"Country\"])\n",
    "            row_ids = row_map[key]\n",
    "            del row_map[key]\n",
    "            row_map.setdefault(can_key, [])\n",
    "            row_map[can_key] += row_ids\n",
    "    return row_map"
   ]
  },
  {
   "cell_type": "code",
   "execution_count": 13,
   "metadata": {
    "collapsed": false
   },
   "outputs": [],
   "source": [
    "new_map = map_merge(row_map.groups, bf_output)"
   ]
  },
  {
   "cell_type": "code",
   "execution_count": 14,
   "metadata": {
    "collapsed": false
   },
   "outputs": [
    {
     "data": {
      "text/plain": [
       "224"
      ]
     },
     "execution_count": 14,
     "metadata": {},
     "output_type": "execute_result"
    }
   ],
   "source": [
    "len(new_map.keys())"
   ]
  },
  {
   "cell_type": "markdown",
   "metadata": {},
   "source": [
    "Again"
   ]
  },
  {
   "cell_type": "code",
   "execution_count": 15,
   "metadata": {
    "collapsed": true
   },
   "outputs": [],
   "source": [
    "with open(full_outfile, \"w\") as f:\n",
    "    writer = csv.writer(f)\n",
    "    writer.writerow([\"Id\", \"City\", \"Country\"])\n",
    "    for i, (city, country) in enumerate(new_map.keys()):\n",
    "        writer.writerow([i, city, country])"
   ]
  },
  {
   "cell_type": "code",
   "execution_count": 16,
   "metadata": {
    "collapsed": true
   },
   "outputs": [],
   "source": [
    "full_output = pd.read_csv(\"full_output.csv\").fillna(\"\")"
   ]
  },
  {
   "cell_type": "code",
   "execution_count": 17,
   "metadata": {
    "collapsed": false
   },
   "outputs": [
    {
     "data": {
      "text/plain": [
       "41"
      ]
     },
     "execution_count": 17,
     "metadata": {},
     "output_type": "execute_result"
    }
   ],
   "source": [
    "full_groups = full_output.groupby([\"canonical_Country\", \"canonical_City\"])\n",
    "len(full_groups)"
   ]
  },
  {
   "cell_type": "code",
   "execution_count": 18,
   "metadata": {
    "collapsed": false
   },
   "outputs": [],
   "source": [
    "newer_map = map_merge(new_map, full_output)"
   ]
  },
  {
   "cell_type": "code",
   "execution_count": 19,
   "metadata": {
    "collapsed": false
   },
   "outputs": [
    {
     "data": {
      "text/plain": [
       "173"
      ]
     },
     "execution_count": 19,
     "metadata": {},
     "output_type": "execute_result"
    }
   ],
   "source": [
    "len(newer_map)"
   ]
  },
  {
   "cell_type": "code",
   "execution_count": 20,
   "metadata": {
    "collapsed": true
   },
   "outputs": [],
   "source": [
    "with open(final_outfile, \"w\") as f:\n",
    "    writer = csv.writer(f)\n",
    "    writer.writerow([\"Id\", \"City\", \"Country\", \"Slug\"]) # open refine slug\n",
    "    for i, (city, country) in enumerate(newer_map.keys()):\n",
    "        writer.writerow([i, city, country, \",\".join([city, country])])"
   ]
  },
  {
   "cell_type": "code",
   "execution_count": 21,
   "metadata": {
    "collapsed": true
   },
   "outputs": [],
   "source": [
    "last_df = pd.read_csv(last_infile).fillna(\"\")"
   ]
  },
  {
   "cell_type": "code",
   "execution_count": 22,
   "metadata": {
    "collapsed": true
   },
   "outputs": [],
   "source": [
    "def slugify_map(row_map, canonicals):\n",
    "    for row in canonicals.iterrows():\n",
    "        row = row[1]\n",
    "        slug = row[\"Slug\"]\n",
    "        key = (row[\"City\"], row[\"Country\"])\n",
    "        row_ids = row_map[key]\n",
    "        del row_map[key]\n",
    "        row_map.setdefault(slug, [])\n",
    "        row_map[slug] += row_ids\n",
    "    return row_map"
   ]
  },
  {
   "cell_type": "code",
   "execution_count": 23,
   "metadata": {
    "collapsed": false
   },
   "outputs": [],
   "source": [
    "last_map = slugify_map(newer_map, last_df)"
   ]
  },
  {
   "cell_type": "code",
   "execution_count": 31,
   "metadata": {
    "collapsed": false
   },
   "outputs": [
    {
     "data": {
      "text/plain": [
       "''"
      ]
     },
     "execution_count": 31,
     "metadata": {},
     "output_type": "execute_result"
    }
   ],
   "source": [
    "df[\"slug\"] = \"\"\n",
    "df[\"canonical_city\"] = \"\"\n",
    "df[\"canonical_country\"] = \"\"\n",
    "df[\"canonical_country\"][0]"
   ]
  },
  {
   "cell_type": "code",
   "execution_count": 37,
   "metadata": {
    "collapsed": false
   },
   "outputs": [],
   "source": [
    "def assign_slugs(df, slugs):\n",
    "    for k, v in slugs.items():\n",
    "        for i in v:\n",
    "            df[\"slug\"].iat[i] = k\n",
    "            city, country = k.split(\",\")\n",
    "            df[\"canonical_city\"].iat[i] = city\n",
    "            df[\"canonical_country\"].iat[i] = country\n",
    "    return df"
   ]
  },
  {
   "cell_type": "code",
   "execution_count": 38,
   "metadata": {
    "collapsed": false
   },
   "outputs": [],
   "source": [
    "slug_df = assign_slugs(df, last_map)"
   ]
  },
  {
   "cell_type": "code",
   "execution_count": 39,
   "metadata": {
    "collapsed": false
   },
   "outputs": [
    {
     "data": {
      "text/html": [
       "<div style=\"max-height:1000px;max-width:1500px;overflow:auto;\">\n",
       "<table border=\"1\" class=\"dataframe\">\n",
       "  <thead>\n",
       "    <tr style=\"text-align: right;\">\n",
       "      <th></th>\n",
       "      <th>Id</th>\n",
       "      <th>City</th>\n",
       "      <th>Country</th>\n",
       "      <th>slug</th>\n",
       "      <th>canonical_city</th>\n",
       "      <th>canonical_country</th>\n",
       "    </tr>\n",
       "  </thead>\n",
       "  <tbody>\n",
       "    <tr>\n",
       "      <th>0  </th>\n",
       "      <td>   0</td>\n",
       "      <td>                  Madrid</td>\n",
       "      <td>                 España</td>\n",
       "      <td>                      madrid,espana</td>\n",
       "      <td>         madrid</td>\n",
       "      <td>               espana</td>\n",
       "    </tr>\n",
       "    <tr>\n",
       "      <th>1  </th>\n",
       "      <td>   1</td>\n",
       "      <td>                 Bogotá</td>\n",
       "      <td>                    NaN</td>\n",
       "      <td>                    bogota,colombia</td>\n",
       "      <td>         bogota</td>\n",
       "      <td>             colombia</td>\n",
       "    </tr>\n",
       "    <tr>\n",
       "      <th>2  </th>\n",
       "      <td>   2</td>\n",
       "      <td>                Santiago</td>\n",
       "      <td>                  Chile</td>\n",
       "      <td>      santiago,republica dominicana</td>\n",
       "      <td>       santiago</td>\n",
       "      <td> republica dominicana</td>\n",
       "    </tr>\n",
       "    <tr>\n",
       "      <th>3  </th>\n",
       "      <td>   3</td>\n",
       "      <td>           Ponta Delgada</td>\n",
       "      <td>                    NaN</td>\n",
       "      <td>                     Ponta Delgada,</td>\n",
       "      <td>  Ponta Delgada</td>\n",
       "      <td>                     </td>\n",
       "    </tr>\n",
       "    <tr>\n",
       "      <th>4  </th>\n",
       "      <td>   4</td>\n",
       "      <td>            Buenos Aires</td>\n",
       "      <td>              Argentina</td>\n",
       "      <td>            Buenos Aires, Argentina</td>\n",
       "      <td>   Buenos Aires</td>\n",
       "      <td>            Argentina</td>\n",
       "    </tr>\n",
       "    <tr>\n",
       "      <th>5  </th>\n",
       "      <td>   5</td>\n",
       "      <td>            Buenos Aires</td>\n",
       "      <td>              Argentina</td>\n",
       "      <td>            Buenos Aires, Argentina</td>\n",
       "      <td>   Buenos Aires</td>\n",
       "      <td>            Argentina</td>\n",
       "    </tr>\n",
       "    <tr>\n",
       "      <th>6  </th>\n",
       "      <td>   6</td>\n",
       "      <td>                    Leon</td>\n",
       "      <td>                    NaN</td>\n",
       "      <td>                              Leon,</td>\n",
       "      <td>           Leon</td>\n",
       "      <td>                     </td>\n",
       "    </tr>\n",
       "    <tr>\n",
       "      <th>7  </th>\n",
       "      <td>   7</td>\n",
       "      <td>             Rio Piedras</td>\n",
       "      <td>                   P.R.</td>\n",
       "      <td>                   rio piedras,p.r.</td>\n",
       "      <td>    rio piedras</td>\n",
       "      <td>                 p.r.</td>\n",
       "    </tr>\n",
       "    <tr>\n",
       "      <th>8  </th>\n",
       "      <td>   8</td>\n",
       "      <td>          Rio de Janeiro</td>\n",
       "      <td>                    NaN</td>\n",
       "      <td>                  rio de janeiro,rj</td>\n",
       "      <td> rio de janeiro</td>\n",
       "      <td>                   rj</td>\n",
       "    </tr>\n",
       "    <tr>\n",
       "      <th>9  </th>\n",
       "      <td>   9</td>\n",
       "      <td>                New York</td>\n",
       "      <td>                     NY</td>\n",
       "      <td>                       New York, NY</td>\n",
       "      <td>       New York</td>\n",
       "      <td>                   NY</td>\n",
       "    </tr>\n",
       "    <tr>\n",
       "      <th>10 </th>\n",
       "      <td>  10</td>\n",
       "      <td>            Buenos Aires</td>\n",
       "      <td>              Argentina</td>\n",
       "      <td>            Buenos Aires, Argentina</td>\n",
       "      <td>   Buenos Aires</td>\n",
       "      <td>            Argentina</td>\n",
       "    </tr>\n",
       "    <tr>\n",
       "      <th>11 </th>\n",
       "      <td>  11</td>\n",
       "      <td>                  Madrid</td>\n",
       "      <td>                 España</td>\n",
       "      <td>                      madrid,espana</td>\n",
       "      <td>         madrid</td>\n",
       "      <td>               espana</td>\n",
       "    </tr>\n",
       "    <tr>\n",
       "      <th>12 </th>\n",
       "      <td>  12</td>\n",
       "      <td>               Barcelona</td>\n",
       "      <td>                 España</td>\n",
       "      <td>                   barcelona,espana</td>\n",
       "      <td>      barcelona</td>\n",
       "      <td>               espana</td>\n",
       "    </tr>\n",
       "    <tr>\n",
       "      <th>13 </th>\n",
       "      <td>  13</td>\n",
       "      <td>                Curitiba</td>\n",
       "      <td>                    NaN</td>\n",
       "      <td>                          Curitiba,</td>\n",
       "      <td>       Curitiba</td>\n",
       "      <td>                     </td>\n",
       "    </tr>\n",
       "    <tr>\n",
       "      <th>14 </th>\n",
       "      <td>  14</td>\n",
       "      <td>             Tegucigalpa</td>\n",
       "      <td>                    NaN</td>\n",
       "      <td>                tegucigalpa,hondura</td>\n",
       "      <td>    tegucigalpa</td>\n",
       "      <td>              hondura</td>\n",
       "    </tr>\n",
       "    <tr>\n",
       "      <th>15 </th>\n",
       "      <td>  15</td>\n",
       "      <td>               Guatemala</td>\n",
       "      <td>              Guatemala</td>\n",
       "      <td>                gautemala,guatemala</td>\n",
       "      <td>      gautemala</td>\n",
       "      <td>            guatemala</td>\n",
       "    </tr>\n",
       "    <tr>\n",
       "      <th>16 </th>\n",
       "      <td>  16</td>\n",
       "      <td>          Rio de Janeiro</td>\n",
       "      <td>                    NaN</td>\n",
       "      <td>                  rio de janeiro,rj</td>\n",
       "      <td> rio de janeiro</td>\n",
       "      <td>                   rj</td>\n",
       "    </tr>\n",
       "    <tr>\n",
       "      <th>17 </th>\n",
       "      <td>  17</td>\n",
       "      <td>                  Madrid</td>\n",
       "      <td>                 España</td>\n",
       "      <td>                      madrid,espana</td>\n",
       "      <td>         madrid</td>\n",
       "      <td>               espana</td>\n",
       "    </tr>\n",
       "    <tr>\n",
       "      <th>18 </th>\n",
       "      <td>  18</td>\n",
       "      <td>                  México</td>\n",
       "      <td>                    NaN</td>\n",
       "      <td>                         mexico,d.f</td>\n",
       "      <td>         mexico</td>\n",
       "      <td>                  d.f</td>\n",
       "    </tr>\n",
       "    <tr>\n",
       "      <th>19 </th>\n",
       "      <td>  19</td>\n",
       "      <td>                  Xalapa</td>\n",
       "      <td>                México</td>\n",
       "      <td>                    Xalapa, México</td>\n",
       "      <td>         Xalapa</td>\n",
       "      <td>              México</td>\n",
       "    </tr>\n",
       "    <tr>\n",
       "      <th>20 </th>\n",
       "      <td>  20</td>\n",
       "      <td>               La Habana</td>\n",
       "      <td>                    NaN</td>\n",
       "      <td>                     la habana,cuba</td>\n",
       "      <td>      la habana</td>\n",
       "      <td>                 cuba</td>\n",
       "    </tr>\n",
       "    <tr>\n",
       "      <th>21 </th>\n",
       "      <td>  21</td>\n",
       "      <td> San Juan de Puerto Rico</td>\n",
       "      <td>                    NaN</td>\n",
       "      <td>                       san juan,p.r</td>\n",
       "      <td>       san juan</td>\n",
       "      <td>                  p.r</td>\n",
       "    </tr>\n",
       "    <tr>\n",
       "      <th>22 </th>\n",
       "      <td>  22</td>\n",
       "      <td>                    Lima</td>\n",
       "      <td>                    NaN</td>\n",
       "      <td>                          lima,peru</td>\n",
       "      <td>           lima</td>\n",
       "      <td>                 peru</td>\n",
       "    </tr>\n",
       "    <tr>\n",
       "      <th>23 </th>\n",
       "      <td>  23</td>\n",
       "      <td>                  Madrid</td>\n",
       "      <td>                 España</td>\n",
       "      <td>                      madrid,espana</td>\n",
       "      <td>         madrid</td>\n",
       "      <td>               espana</td>\n",
       "    </tr>\n",
       "    <tr>\n",
       "      <th>24 </th>\n",
       "      <td>  24</td>\n",
       "      <td>                  Madrid</td>\n",
       "      <td>                 España</td>\n",
       "      <td>                      madrid,espana</td>\n",
       "      <td>         madrid</td>\n",
       "      <td>               espana</td>\n",
       "    </tr>\n",
       "    <tr>\n",
       "      <th>25 </th>\n",
       "      <td>  25</td>\n",
       "      <td>          Rio de Janeiro</td>\n",
       "      <td>                    NaN</td>\n",
       "      <td>                  rio de janeiro,rj</td>\n",
       "      <td> rio de janeiro</td>\n",
       "      <td>                   rj</td>\n",
       "    </tr>\n",
       "    <tr>\n",
       "      <th>26 </th>\n",
       "      <td>  26</td>\n",
       "      <td>                  Madrid</td>\n",
       "      <td>                 España</td>\n",
       "      <td>                      madrid,espana</td>\n",
       "      <td>         madrid</td>\n",
       "      <td>               espana</td>\n",
       "    </tr>\n",
       "    <tr>\n",
       "      <th>27 </th>\n",
       "      <td>  27</td>\n",
       "      <td>                New York</td>\n",
       "      <td>                     NY</td>\n",
       "      <td>                       New York, NY</td>\n",
       "      <td>       New York</td>\n",
       "      <td>                   NY</td>\n",
       "    </tr>\n",
       "    <tr>\n",
       "      <th>28 </th>\n",
       "      <td>  28</td>\n",
       "      <td>                 México</td>\n",
       "      <td>                    D.F</td>\n",
       "      <td>                         mexico,d.f</td>\n",
       "      <td>         mexico</td>\n",
       "      <td>                  d.f</td>\n",
       "    </tr>\n",
       "    <tr>\n",
       "      <th>29 </th>\n",
       "      <td>  29</td>\n",
       "      <td>                  Madrid</td>\n",
       "      <td>                 España</td>\n",
       "      <td>                      madrid,espana</td>\n",
       "      <td>         madrid</td>\n",
       "      <td>               espana</td>\n",
       "    </tr>\n",
       "    <tr>\n",
       "      <th>...</th>\n",
       "      <td>...</td>\n",
       "      <td>...</td>\n",
       "      <td>...</td>\n",
       "      <td>...</td>\n",
       "      <td>...</td>\n",
       "      <td>...</td>\n",
       "    </tr>\n",
       "    <tr>\n",
       "      <th>969</th>\n",
       "      <td> 969</td>\n",
       "      <td>               Brasília</td>\n",
       "      <td>                    NaN</td>\n",
       "      <td>                    brasilia,brazil</td>\n",
       "      <td>       brasilia</td>\n",
       "      <td>               brazil</td>\n",
       "    </tr>\n",
       "    <tr>\n",
       "      <th>970</th>\n",
       "      <td> 970</td>\n",
       "      <td>                  México</td>\n",
       "      <td>                    NaN</td>\n",
       "      <td>                         mexico,d.f</td>\n",
       "      <td>         mexico</td>\n",
       "      <td>                  d.f</td>\n",
       "    </tr>\n",
       "    <tr>\n",
       "      <th>971</th>\n",
       "      <td> 971</td>\n",
       "      <td>            Eden Prairie</td>\n",
       "      <td>                     MN</td>\n",
       "      <td>                   Eden Prairie, MN</td>\n",
       "      <td>   Eden Prairie</td>\n",
       "      <td>                   MN</td>\n",
       "    </tr>\n",
       "    <tr>\n",
       "      <th>972</th>\n",
       "      <td> 972</td>\n",
       "      <td>               Barcelona</td>\n",
       "      <td>                 España</td>\n",
       "      <td>                   barcelona,espana</td>\n",
       "      <td>      barcelona</td>\n",
       "      <td>               espana</td>\n",
       "    </tr>\n",
       "    <tr>\n",
       "      <th>973</th>\n",
       "      <td> 973</td>\n",
       "      <td>                  Mexico</td>\n",
       "      <td>                    D.F</td>\n",
       "      <td>                         mexico,d.f</td>\n",
       "      <td>         mexico</td>\n",
       "      <td>                  d.f</td>\n",
       "    </tr>\n",
       "    <tr>\n",
       "      <th>974</th>\n",
       "      <td> 974</td>\n",
       "      <td>           Santo Domingo</td>\n",
       "      <td>  República Dominicana</td>\n",
       "      <td> santo domingo,republica dominicana</td>\n",
       "      <td>  santo domingo</td>\n",
       "      <td> republica dominicana</td>\n",
       "    </tr>\n",
       "    <tr>\n",
       "      <th>975</th>\n",
       "      <td> 975</td>\n",
       "      <td>               La Habana</td>\n",
       "      <td>                   Cuba</td>\n",
       "      <td>                     la habana,cuba</td>\n",
       "      <td>      la habana</td>\n",
       "      <td>                 cuba</td>\n",
       "    </tr>\n",
       "    <tr>\n",
       "      <th>976</th>\n",
       "      <td> 976</td>\n",
       "      <td>                   Porto</td>\n",
       "      <td>                    NaN</td>\n",
       "      <td>     porto alegre,rio grande do sul</td>\n",
       "      <td>   porto alegre</td>\n",
       "      <td>    rio grande do sul</td>\n",
       "    </tr>\n",
       "    <tr>\n",
       "      <th>977</th>\n",
       "      <td> 977</td>\n",
       "      <td>                    Lima</td>\n",
       "      <td>                    NaN</td>\n",
       "      <td>                          lima,peru</td>\n",
       "      <td>           lima</td>\n",
       "      <td>                 peru</td>\n",
       "    </tr>\n",
       "    <tr>\n",
       "      <th>978</th>\n",
       "      <td> 978</td>\n",
       "      <td>          Rio de Janeiro</td>\n",
       "      <td>                    NaN</td>\n",
       "      <td>                  rio de janeiro,rj</td>\n",
       "      <td> rio de janeiro</td>\n",
       "      <td>                   rj</td>\n",
       "    </tr>\n",
       "    <tr>\n",
       "      <th>979</th>\n",
       "      <td> 979</td>\n",
       "      <td>                  Toluca</td>\n",
       "      <td>                    Mex</td>\n",
       "      <td>            toluca,estado de mexico</td>\n",
       "      <td>         toluca</td>\n",
       "      <td>     estado de mexico</td>\n",
       "    </tr>\n",
       "    <tr>\n",
       "      <th>980</th>\n",
       "      <td> 980</td>\n",
       "      <td>                 Bogotá</td>\n",
       "      <td>                    NaN</td>\n",
       "      <td>                    bogota,colombia</td>\n",
       "      <td>         bogota</td>\n",
       "      <td>             colombia</td>\n",
       "    </tr>\n",
       "    <tr>\n",
       "      <th>981</th>\n",
       "      <td> 981</td>\n",
       "      <td>            Buenos Aires</td>\n",
       "      <td>              Argentina</td>\n",
       "      <td>            Buenos Aires, Argentina</td>\n",
       "      <td>   Buenos Aires</td>\n",
       "      <td>            Argentina</td>\n",
       "    </tr>\n",
       "    <tr>\n",
       "      <th>982</th>\n",
       "      <td> 982</td>\n",
       "      <td>           Santo Domingo</td>\n",
       "      <td>               Rep. Dom</td>\n",
       "      <td> santo domingo,republica dominicana</td>\n",
       "      <td>  santo domingo</td>\n",
       "      <td> republica dominicana</td>\n",
       "    </tr>\n",
       "    <tr>\n",
       "      <th>983</th>\n",
       "      <td> 983</td>\n",
       "      <td>            Buenos Aires</td>\n",
       "      <td>              Argentina</td>\n",
       "      <td>            Buenos Aires, Argentina</td>\n",
       "      <td>   Buenos Aires</td>\n",
       "      <td>            Argentina</td>\n",
       "    </tr>\n",
       "    <tr>\n",
       "      <th>984</th>\n",
       "      <td> 984</td>\n",
       "      <td>                 México</td>\n",
       "      <td>                    NaN</td>\n",
       "      <td>                         mexico,d.f</td>\n",
       "      <td>         mexico</td>\n",
       "      <td>                  d.f</td>\n",
       "    </tr>\n",
       "    <tr>\n",
       "      <th>985</th>\n",
       "      <td> 985</td>\n",
       "      <td>                  La Paz</td>\n",
       "      <td>                Bolivia</td>\n",
       "      <td>                     la paz,bolivia</td>\n",
       "      <td>         la paz</td>\n",
       "      <td>              bolivia</td>\n",
       "    </tr>\n",
       "    <tr>\n",
       "      <th>986</th>\n",
       "      <td> 986</td>\n",
       "      <td>                  Recife</td>\n",
       "      <td>                    NaN</td>\n",
       "      <td>                            Recife,</td>\n",
       "      <td>         Recife</td>\n",
       "      <td>                     </td>\n",
       "    </tr>\n",
       "    <tr>\n",
       "      <th>987</th>\n",
       "      <td> 987</td>\n",
       "      <td>                 México</td>\n",
       "      <td>                    NaN</td>\n",
       "      <td>                         mexico,d.f</td>\n",
       "      <td>         mexico</td>\n",
       "      <td>                  d.f</td>\n",
       "    </tr>\n",
       "    <tr>\n",
       "      <th>988</th>\n",
       "      <td> 988</td>\n",
       "      <td>            Buenos Aires</td>\n",
       "      <td>              Argentina</td>\n",
       "      <td>            Buenos Aires, Argentina</td>\n",
       "      <td>   Buenos Aires</td>\n",
       "      <td>            Argentina</td>\n",
       "    </tr>\n",
       "    <tr>\n",
       "      <th>989</th>\n",
       "      <td> 989</td>\n",
       "      <td>            Buenos Aires</td>\n",
       "      <td>              Argentina</td>\n",
       "      <td>            Buenos Aires, Argentina</td>\n",
       "      <td>   Buenos Aires</td>\n",
       "      <td>            Argentina</td>\n",
       "    </tr>\n",
       "    <tr>\n",
       "      <th>990</th>\n",
       "      <td> 990</td>\n",
       "      <td>                  Lisboa</td>\n",
       "      <td>               Portugal</td>\n",
       "      <td>                    lisbon,portugal</td>\n",
       "      <td>         lisbon</td>\n",
       "      <td>             portugal</td>\n",
       "    </tr>\n",
       "    <tr>\n",
       "      <th>991</th>\n",
       "      <td> 991</td>\n",
       "      <td>              São Paulo</td>\n",
       "      <td>                 Brasil</td>\n",
       "      <td>                   sao paulo,brasil</td>\n",
       "      <td>      sao paulo</td>\n",
       "      <td>               brasil</td>\n",
       "    </tr>\n",
       "    <tr>\n",
       "      <th>992</th>\n",
       "      <td> 992</td>\n",
       "      <td>                  Madrid</td>\n",
       "      <td>                 España</td>\n",
       "      <td>                      madrid,espana</td>\n",
       "      <td>         madrid</td>\n",
       "      <td>               espana</td>\n",
       "    </tr>\n",
       "    <tr>\n",
       "      <th>993</th>\n",
       "      <td> 993</td>\n",
       "      <td>                 México</td>\n",
       "      <td>                    NaN</td>\n",
       "      <td>                         mexico,d.f</td>\n",
       "      <td>         mexico</td>\n",
       "      <td>                  d.f</td>\n",
       "    </tr>\n",
       "    <tr>\n",
       "      <th>994</th>\n",
       "      <td> 994</td>\n",
       "      <td>              São Paulo</td>\n",
       "      <td>                 Brasil</td>\n",
       "      <td>                   sao paulo,brasil</td>\n",
       "      <td>      sao paulo</td>\n",
       "      <td>               brasil</td>\n",
       "    </tr>\n",
       "    <tr>\n",
       "      <th>995</th>\n",
       "      <td> 995</td>\n",
       "      <td>              São Paulo</td>\n",
       "      <td>                 Brasil</td>\n",
       "      <td>                   sao paulo,brasil</td>\n",
       "      <td>      sao paulo</td>\n",
       "      <td>               brasil</td>\n",
       "    </tr>\n",
       "    <tr>\n",
       "      <th>996</th>\n",
       "      <td> 996</td>\n",
       "      <td>          Rio de Janeiro</td>\n",
       "      <td>                    NaN</td>\n",
       "      <td>                  rio de janeiro,rj</td>\n",
       "      <td> rio de janeiro</td>\n",
       "      <td>                   rj</td>\n",
       "    </tr>\n",
       "    <tr>\n",
       "      <th>997</th>\n",
       "      <td> 997</td>\n",
       "      <td>              São Paulo</td>\n",
       "      <td>                 Brasil</td>\n",
       "      <td>                   sao paulo,brasil</td>\n",
       "      <td>      sao paulo</td>\n",
       "      <td>               brasil</td>\n",
       "    </tr>\n",
       "    <tr>\n",
       "      <th>998</th>\n",
       "      <td> 998</td>\n",
       "      <td>              São Paulo</td>\n",
       "      <td>                 Brasil</td>\n",
       "      <td>                   sao paulo,brasil</td>\n",
       "      <td>      sao paulo</td>\n",
       "      <td>               brasil</td>\n",
       "    </tr>\n",
       "  </tbody>\n",
       "</table>\n",
       "<p>999 rows × 6 columns</p>\n",
       "</div>"
      ],
      "text/plain": [
       "      Id                     City                 Country  \\\n",
       "0      0                   Madrid                  España   \n",
       "1      1                  Bogotá                     NaN   \n",
       "2      2                 Santiago                   Chile   \n",
       "3      3            Ponta Delgada                     NaN   \n",
       "4      4             Buenos Aires               Argentina   \n",
       "5      5             Buenos Aires               Argentina   \n",
       "6      6                     Leon                     NaN   \n",
       "7      7              Rio Piedras                    P.R.   \n",
       "8      8           Rio de Janeiro                     NaN   \n",
       "9      9                 New York                      NY   \n",
       "10    10             Buenos Aires               Argentina   \n",
       "11    11                   Madrid                  España   \n",
       "12    12                Barcelona                  España   \n",
       "13    13                 Curitiba                     NaN   \n",
       "14    14              Tegucigalpa                     NaN   \n",
       "15    15                Guatemala               Guatemala   \n",
       "16    16           Rio de Janeiro                     NaN   \n",
       "17    17                   Madrid                  España   \n",
       "18    18                   México                     NaN   \n",
       "19    19                   Xalapa                 México   \n",
       "20    20                La Habana                     NaN   \n",
       "21    21  San Juan de Puerto Rico                     NaN   \n",
       "22    22                     Lima                     NaN   \n",
       "23    23                   Madrid                  España   \n",
       "24    24                   Madrid                  España   \n",
       "25    25           Rio de Janeiro                     NaN   \n",
       "26    26                   Madrid                  España   \n",
       "27    27                 New York                      NY   \n",
       "28    28                  México                     D.F   \n",
       "29    29                   Madrid                  España   \n",
       "..   ...                      ...                     ...   \n",
       "969  969                Brasília                     NaN   \n",
       "970  970                   México                     NaN   \n",
       "971  971             Eden Prairie                      MN   \n",
       "972  972                Barcelona                  España   \n",
       "973  973                   Mexico                     D.F   \n",
       "974  974            Santo Domingo   República Dominicana   \n",
       "975  975                La Habana                    Cuba   \n",
       "976  976                    Porto                     NaN   \n",
       "977  977                     Lima                     NaN   \n",
       "978  978           Rio de Janeiro                     NaN   \n",
       "979  979                   Toluca                     Mex   \n",
       "980  980                  Bogotá                     NaN   \n",
       "981  981             Buenos Aires               Argentina   \n",
       "982  982            Santo Domingo                Rep. Dom   \n",
       "983  983             Buenos Aires               Argentina   \n",
       "984  984                  México                     NaN   \n",
       "985  985                   La Paz                 Bolivia   \n",
       "986  986                   Recife                     NaN   \n",
       "987  987                  México                     NaN   \n",
       "988  988             Buenos Aires               Argentina   \n",
       "989  989             Buenos Aires               Argentina   \n",
       "990  990                   Lisboa                Portugal   \n",
       "991  991               São Paulo                  Brasil   \n",
       "992  992                   Madrid                  España   \n",
       "993  993                  México                     NaN   \n",
       "994  994               São Paulo                  Brasil   \n",
       "995  995               São Paulo                  Brasil   \n",
       "996  996           Rio de Janeiro                     NaN   \n",
       "997  997               São Paulo                  Brasil   \n",
       "998  998               São Paulo                  Brasil   \n",
       "\n",
       "                                   slug  canonical_city     canonical_country  \n",
       "0                         madrid,espana          madrid                espana  \n",
       "1                       bogota,colombia          bogota              colombia  \n",
       "2         santiago,republica dominicana        santiago  republica dominicana  \n",
       "3                        Ponta Delgada,   Ponta Delgada                        \n",
       "4               Buenos Aires, Argentina    Buenos Aires             Argentina  \n",
       "5               Buenos Aires, Argentina    Buenos Aires             Argentina  \n",
       "6                                 Leon,            Leon                        \n",
       "7                      rio piedras,p.r.     rio piedras                  p.r.  \n",
       "8                     rio de janeiro,rj  rio de janeiro                    rj  \n",
       "9                          New York, NY        New York                    NY  \n",
       "10              Buenos Aires, Argentina    Buenos Aires             Argentina  \n",
       "11                        madrid,espana          madrid                espana  \n",
       "12                     barcelona,espana       barcelona                espana  \n",
       "13                            Curitiba,        Curitiba                        \n",
       "14                  tegucigalpa,hondura     tegucigalpa               hondura  \n",
       "15                  gautemala,guatemala       gautemala             guatemala  \n",
       "16                    rio de janeiro,rj  rio de janeiro                    rj  \n",
       "17                        madrid,espana          madrid                espana  \n",
       "18                           mexico,d.f          mexico                   d.f  \n",
       "19                      Xalapa, México          Xalapa               México  \n",
       "20                       la habana,cuba       la habana                  cuba  \n",
       "21                         san juan,p.r        san juan                   p.r  \n",
       "22                            lima,peru            lima                  peru  \n",
       "23                        madrid,espana          madrid                espana  \n",
       "24                        madrid,espana          madrid                espana  \n",
       "25                    rio de janeiro,rj  rio de janeiro                    rj  \n",
       "26                        madrid,espana          madrid                espana  \n",
       "27                         New York, NY        New York                    NY  \n",
       "28                           mexico,d.f          mexico                   d.f  \n",
       "29                        madrid,espana          madrid                espana  \n",
       "..                                  ...             ...                   ...  \n",
       "969                     brasilia,brazil        brasilia                brazil  \n",
       "970                          mexico,d.f          mexico                   d.f  \n",
       "971                    Eden Prairie, MN    Eden Prairie                    MN  \n",
       "972                    barcelona,espana       barcelona                espana  \n",
       "973                          mexico,d.f          mexico                   d.f  \n",
       "974  santo domingo,republica dominicana   santo domingo  republica dominicana  \n",
       "975                      la habana,cuba       la habana                  cuba  \n",
       "976      porto alegre,rio grande do sul    porto alegre     rio grande do sul  \n",
       "977                           lima,peru            lima                  peru  \n",
       "978                   rio de janeiro,rj  rio de janeiro                    rj  \n",
       "979             toluca,estado de mexico          toluca      estado de mexico  \n",
       "980                     bogota,colombia          bogota              colombia  \n",
       "981             Buenos Aires, Argentina    Buenos Aires             Argentina  \n",
       "982  santo domingo,republica dominicana   santo domingo  republica dominicana  \n",
       "983             Buenos Aires, Argentina    Buenos Aires             Argentina  \n",
       "984                          mexico,d.f          mexico                   d.f  \n",
       "985                      la paz,bolivia          la paz               bolivia  \n",
       "986                             Recife,          Recife                        \n",
       "987                          mexico,d.f          mexico                   d.f  \n",
       "988             Buenos Aires, Argentina    Buenos Aires             Argentina  \n",
       "989             Buenos Aires, Argentina    Buenos Aires             Argentina  \n",
       "990                     lisbon,portugal          lisbon              portugal  \n",
       "991                    sao paulo,brasil       sao paulo                brasil  \n",
       "992                       madrid,espana          madrid                espana  \n",
       "993                          mexico,d.f          mexico                   d.f  \n",
       "994                    sao paulo,brasil       sao paulo                brasil  \n",
       "995                    sao paulo,brasil       sao paulo                brasil  \n",
       "996                   rio de janeiro,rj  rio de janeiro                    rj  \n",
       "997                    sao paulo,brasil       sao paulo                brasil  \n",
       "998                    sao paulo,brasil       sao paulo                brasil  \n",
       "\n",
       "[999 rows x 6 columns]"
      ]
     },
     "execution_count": 39,
     "metadata": {},
     "output_type": "execute_result"
    }
   ],
   "source": [
    "slug_df"
   ]
  },
  {
   "cell_type": "code",
   "execution_count": null,
   "metadata": {
    "collapsed": true
   },
   "outputs": [],
   "source": []
  }
 ],
 "metadata": {
  "kernelspec": {
   "display_name": "Python 3",
   "language": "python",
   "name": "python3"
  },
  "language_info": {
   "codemirror_mode": {
    "name": "ipython",
    "version": 3
   },
   "file_extension": ".py",
   "mimetype": "text/x-python",
   "name": "python",
   "nbconvert_exporter": "python",
   "pygments_lexer": "ipython3",
   "version": "3.4.0"
  }
 },
 "nbformat": 4,
 "nbformat_minor": 0
}
