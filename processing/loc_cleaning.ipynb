{
 "cells": [
  {
   "cell_type": "code",
   "execution_count": 2,
   "metadata": {
    "collapsed": false
   },
   "outputs": [],
   "source": [
    "%matplotlib inline\n",
    "import csv\n",
    "import numpy as np\n",
    "import pandas as pd\n",
    "import matplotlib.pyplot as plt"
   ]
  },
  {
   "cell_type": "code",
   "execution_count": 2,
   "metadata": {
    "collapsed": false
   },
   "outputs": [
    {
     "data": {
      "text/plain": [
       "13188245"
      ]
     },
     "execution_count": 2,
     "metadata": {},
     "output_type": "execute_result"
    }
   ],
   "source": [
    "# These are all locations in rows that correspond to the original dataset\n",
    "locs = pd.read_csv(\"data/just_split_locs.csv\")\n",
    "len(locs)"
   ]
  },
  {
   "cell_type": "code",
   "execution_count": 3,
   "metadata": {
    "collapsed": false,
    "scrolled": true
   },
   "outputs": [
    {
     "data": {
      "text/html": [
       "<div>\n",
       "<table border=\"1\" class=\"dataframe\">\n",
       "  <thead>\n",
       "    <tr style=\"text-align: right;\">\n",
       "      <th></th>\n",
       "      <th>Id</th>\n",
       "      <th>City</th>\n",
       "      <th>Division1</th>\n",
       "      <th>Division2</th>\n",
       "    </tr>\n",
       "  </thead>\n",
       "  <tbody>\n",
       "    <tr>\n",
       "      <th>0</th>\n",
       "      <td>0</td>\n",
       "      <td>madrid</td>\n",
       "      <td>NaN</td>\n",
       "      <td>NaN</td>\n",
       "    </tr>\n",
       "    <tr>\n",
       "      <th>1</th>\n",
       "      <td>1</td>\n",
       "      <td>bogota</td>\n",
       "      <td>NaN</td>\n",
       "      <td>NaN</td>\n",
       "    </tr>\n",
       "    <tr>\n",
       "      <th>2</th>\n",
       "      <td>2</td>\n",
       "      <td>santiago</td>\n",
       "      <td>chile</td>\n",
       "      <td>NaN</td>\n",
       "    </tr>\n",
       "    <tr>\n",
       "      <th>3</th>\n",
       "      <td>3</td>\n",
       "      <td>ponta delgada</td>\n",
       "      <td>NaN</td>\n",
       "      <td>NaN</td>\n",
       "    </tr>\n",
       "    <tr>\n",
       "      <th>4</th>\n",
       "      <td>4</td>\n",
       "      <td>buenos aires</td>\n",
       "      <td>NaN</td>\n",
       "      <td>NaN</td>\n",
       "    </tr>\n",
       "  </tbody>\n",
       "</table>\n",
       "</div>"
      ],
      "text/plain": [
       "   Id           City Division1 Division2\n",
       "0   0         madrid       NaN       NaN\n",
       "1   1         bogota       NaN       NaN\n",
       "2   2       santiago     chile       NaN\n",
       "3   3  ponta delgada       NaN       NaN\n",
       "4   4   buenos aires       NaN       NaN"
      ]
     },
     "execution_count": 3,
     "metadata": {},
     "output_type": "execute_result"
    }
   ],
   "source": [
    "locs.head()"
   ]
  },
  {
   "cell_type": "code",
   "execution_count": 4,
   "metadata": {
    "collapsed": false
   },
   "outputs": [],
   "source": [
    "# Create a mapping for rows based on the three location divisions\n",
    "row_map = locs.groupby([\"City\", \"Division1\", \"Division2\"]).groups"
   ]
  },
  {
   "cell_type": "code",
   "execution_count": 5,
   "metadata": {
    "collapsed": false
   },
   "outputs": [
    {
     "data": {
      "text/plain": [
       "[5465924, 10780540]"
      ]
     },
     "execution_count": 5,
     "metadata": {},
     "output_type": "execute_result"
    }
   ],
   "source": [
    "row_map[('torello', np.nan, 'barcelona')]"
   ]
  },
  {
   "cell_type": "code",
   "execution_count": 6,
   "metadata": {
    "collapsed": true
   },
   "outputs": [],
   "source": [
    "# Move row mappings to slugs\n",
    "def map_to_slugs(row_map):\n",
    "    new_map = {}\n",
    "    for k, v in row_map.items():\n",
    "        c, d1, d2 = k\n",
    "        if pd.isnull(d1):\n",
    "            d1 = \"\"\n",
    "        if pd.isnull(d2):\n",
    "            d2 = \"\"\n",
    "        slug = '{},{},{}'.format(c, d1, d2)\n",
    "        slug = slug.strip(',')\n",
    "        new_map[slug] = v\n",
    "    return new_map"
   ]
  },
  {
   "cell_type": "code",
   "execution_count": 7,
   "metadata": {
    "collapsed": false
   },
   "outputs": [],
   "source": [
    "slug_row_map = map_to_slugs(row_map)"
   ]
  },
  {
   "cell_type": "code",
   "execution_count": 8,
   "metadata": {
    "collapsed": false
   },
   "outputs": [
    {
     "data": {
      "text/plain": [
       "('brasilia,df,2000', [8148542, 10253684])"
      ]
     },
     "execution_count": 8,
     "metadata": {},
     "output_type": "execute_result"
    }
   ],
   "source": [
    "list(slug_row_map.items())[0]"
   ]
  },
  {
   "cell_type": "code",
   "execution_count": 9,
   "metadata": {
    "collapsed": false
   },
   "outputs": [],
   "source": [
    "# Sort into most common combination of three loc keys\n",
    "import operator\n",
    "d = {k: len(v) for k, v in row_map.items()}\n",
    "s = sorted(d.items(), key=operator.itemgetter(1), reverse=True)"
   ]
  },
  {
   "cell_type": "code",
   "execution_count": 10,
   "metadata": {
    "collapsed": false
   },
   "outputs": [
    {
     "data": {
      "text/plain": [
       "(('madrid', nan, nan), 2114115)"
      ]
     },
     "execution_count": 10,
     "metadata": {},
     "output_type": "execute_result"
    }
   ],
   "source": [
    "s[0]"
   ]
  },
  {
   "cell_type": "code",
   "execution_count": 11,
   "metadata": {
    "collapsed": false
   },
   "outputs": [],
   "source": [
    "# Find keys with more than one row\n",
    "short = [x for x in s if x[1] > 1]"
   ]
  },
  {
   "cell_type": "code",
   "execution_count": 12,
   "metadata": {
    "collapsed": false
   },
   "outputs": [
    {
     "data": {
      "text/plain": [
       "50179"
      ]
     },
     "execution_count": 12,
     "metadata": {},
     "output_type": "execute_result"
    }
   ],
   "source": [
    "len(short)"
   ]
  },
  {
   "cell_type": "code",
   "execution_count": 13,
   "metadata": {
    "collapsed": false
   },
   "outputs": [
    {
     "data": {
      "text/plain": [
       "0.006198615384615385"
      ]
     },
     "execution_count": 13,
     "metadata": {},
     "output_type": "execute_result"
    }
   ],
   "source": [
    "(len(s) - len(short)) / 13000000.0\n",
    "# 0.6 % of data contains a place name that only occurs once"
   ]
  },
  {
   "cell_type": "markdown",
   "metadata": {},
   "source": [
    "# DO NOT RUN THIS CODE"
   ]
  },
  {
   "cell_type": "code",
   "execution_count": 64,
   "metadata": {
    "collapsed": false
   },
   "outputs": [],
   "source": [
    "# This function creates slugs by combining the 3 loc keys and writes the groups to file\n",
    "def write_csv(outfile, groups):\n",
    "    with open(outfile, \"w\") as f:\n",
    "        writer = csv.writer(f)\n",
    "        writer.writerow([\"Id\", \"City\", \"Division1\", \"Division2\", \"Slug\"])\n",
    "        for i, tup in enumerate(groups):\n",
    "            loc = tup[0]\n",
    "            city = loc[0]\n",
    "            div1 = loc[1]\n",
    "            div2 = loc[2]\n",
    "            if pd.isnull(div1):\n",
    "                div1 = \"\"\n",
    "            if pd.isnull(div2):\n",
    "                div2 = \"\"\n",
    "            slug = \"{},{},{}\".format(city, div1, div2)\n",
    "            row = [i, city, div1, div2, slug.strip(\",\")]\n",
    "            writer.writerow(row)"
   ]
  },
  {
   "cell_type": "code",
   "execution_count": 65,
   "metadata": {
    "collapsed": false
   },
   "outputs": [],
   "source": [
    "# write_csv(\"data/top_locs.csv\", short)"
   ]
  },
  {
   "cell_type": "code",
   "execution_count": 67,
   "metadata": {
    "collapsed": false
   },
   "outputs": [
    {
     "data": {
      "text/html": [
       "<div>\n",
       "<table border=\"1\" class=\"dataframe\">\n",
       "  <thead>\n",
       "    <tr style=\"text-align: right;\">\n",
       "      <th></th>\n",
       "      <th>Id</th>\n",
       "      <th>City</th>\n",
       "      <th>Division1</th>\n",
       "      <th>Division2</th>\n",
       "      <th>Slug</th>\n",
       "    </tr>\n",
       "  </thead>\n",
       "  <tbody>\n",
       "    <tr>\n",
       "      <th>0</th>\n",
       "      <td>0</td>\n",
       "      <td>madrid</td>\n",
       "      <td>NaN</td>\n",
       "      <td>NaN</td>\n",
       "      <td>madrid</td>\n",
       "    </tr>\n",
       "    <tr>\n",
       "      <th>1</th>\n",
       "      <td>1</td>\n",
       "      <td>barcelona</td>\n",
       "      <td>NaN</td>\n",
       "      <td>NaN</td>\n",
       "      <td>barcelona</td>\n",
       "    </tr>\n",
       "    <tr>\n",
       "      <th>2</th>\n",
       "      <td>2</td>\n",
       "      <td>NaN</td>\n",
       "      <td>NaN</td>\n",
       "      <td>NaN</td>\n",
       "      <td>NaN</td>\n",
       "    </tr>\n",
       "    <tr>\n",
       "      <th>3</th>\n",
       "      <td>3</td>\n",
       "      <td>mexico</td>\n",
       "      <td>NaN</td>\n",
       "      <td>NaN</td>\n",
       "      <td>mexico</td>\n",
       "    </tr>\n",
       "    <tr>\n",
       "      <th>4</th>\n",
       "      <td>4</td>\n",
       "      <td>buenos aires</td>\n",
       "      <td>NaN</td>\n",
       "      <td>NaN</td>\n",
       "      <td>buenos aires</td>\n",
       "    </tr>\n",
       "  </tbody>\n",
       "</table>\n",
       "</div>"
      ],
      "text/plain": [
       "   Id          City Division1 Division2          Slug\n",
       "0   0        madrid       NaN       NaN        madrid\n",
       "1   1     barcelona       NaN       NaN     barcelona\n",
       "2   2           NaN       NaN       NaN           NaN\n",
       "3   3        mexico       NaN       NaN        mexico\n",
       "4   4  buenos aires       NaN       NaN  buenos aires"
      ]
     },
     "execution_count": 67,
     "metadata": {},
     "output_type": "execute_result"
    }
   ],
   "source": [
    "# This will be cleaned in refine\n",
    "top_locs_df = pd.read_csv(\"data/top_locs.csv\")\n",
    "top_locs_df.head()"
   ]
  },
  {
   "cell_type": "code",
   "execution_count": 12,
   "metadata": {
    "collapsed": true
   },
   "outputs": [],
   "source": [
    "# First cleaning produces a file with \"city\" keys split as \"city (country)\"\n",
    "# for entries that are that applicable"
   ]
  },
  {
   "cell_type": "code",
   "execution_count": 2,
   "metadata": {
    "collapsed": true
   },
   "outputs": [],
   "source": [
    "# Get header\n",
    "first_cleaning = pd.read_csv('data/top_locs_first_cleaning_oct_8_2016.csv')"
   ]
  },
  {
   "cell_type": "code",
   "execution_count": 3,
   "metadata": {
    "collapsed": false
   },
   "outputs": [
    {
     "data": {
      "text/plain": [
       "Index(['Id', 'City', 'Division1', 'Division2', 'Slug'], dtype='object')"
      ]
     },
     "execution_count": 3,
     "metadata": {},
     "output_type": "execute_result"
    }
   ],
   "source": [
    "first_cleaning.columns"
   ]
  },
  {
   "cell_type": "code",
   "execution_count": 13,
   "metadata": {
    "collapsed": false
   },
   "outputs": [],
   "source": [
    "# Parse to push \"(country)\" to div 2 or 3\n",
    "def parse_first_cleaning(infile, outfile):\n",
    "    outrows = []\n",
    "    header = []\n",
    "    with open(infile, 'r') as f:\n",
    "        reader = csv.reader(f)\n",
    "        header = next(reader)\n",
    "        for row in reader:\n",
    "            id, city, div1, div2, slug = row\n",
    "            city = city.split(\"(\")\n",
    "            if len(city) == 1:\n",
    "                city = city[0]\n",
    "            elif len(city) == 2:\n",
    "                city = city[0]\n",
    "                new_div = city[1]\n",
    "                new_div = new_div.strip(')')\n",
    "                if not div1:\n",
    "                    div2 = new_div\n",
    "                elif not div2:\n",
    "                    div3 = new_div\n",
    "                else:\n",
    "                    div3 = div3 + new_div\n",
    "            else:\n",
    "                print(city)\n",
    "                raise Exception(\"this shouldn't happen\")\n",
    "            new_row = [id, city, div1, div2, slug]\n",
    "            outrows.append(new_row)\n",
    "    with open(outfile, 'w') as new_f:\n",
    "        writer = csv.writer(new_f)\n",
    "        writer.writerow(header)\n",
    "        writer.writerows(outrows) "
   ]
  },
  {
   "cell_type": "code",
   "execution_count": 14,
   "metadata": {
    "collapsed": false
   },
   "outputs": [],
   "source": [
    "# parse_first_cleaning(\"data/top_locs_first_cleaning_oct_8_2016.csv\", \"data/top_locs_second_cleaning_oct_8_2016.csv\")"
   ]
  },
  {
   "cell_type": "code",
   "execution_count": 4,
   "metadata": {
    "collapsed": true
   },
   "outputs": [],
   "source": [
    "# This creates new slugs from the cleaned loc fields\n",
    "# these slugs will then be cleaned and become the canonical placename source\n",
    "def parse_second_cleaning(infile, outfile):\n",
    "    outrows = []\n",
    "    header = []\n",
    "    with open(infile, 'r') as f:\n",
    "        reader = csv.reader(f)\n",
    "        header = next(reader)\n",
    "        header.append('new_slug')\n",
    "        for row in reader:\n",
    "            id, city, div1, div2, slug = row\n",
    "            new_slug = '{},{},{}'.format(city, div1, div2)\n",
    "            new_slug = new_slug.strip(',')\n",
    "            new_row = new_row = [id, city, div1, div2, slug, new_slug]\n",
    "            outrows.append(new_row)\n",
    "    with open(outfile, 'w') as new_f:\n",
    "        writer = csv.writer(new_f)\n",
    "        writer.writerow(header)\n",
    "        writer.writerows(outrows) "
   ]
  },
  {
   "cell_type": "code",
   "execution_count": 5,
   "metadata": {
    "collapsed": false
   },
   "outputs": [],
   "source": [
    "# parse_second_cleaning('data/top_locs_second_cleaning_oct_8_2016.csv', 'data/top_locs_third_cleaning_oct_8_2016.csv')"
   ]
  },
  {
   "cell_type": "code",
   "execution_count": 3,
   "metadata": {
    "collapsed": false
   },
   "outputs": [],
   "source": [
    "# Create a final slug using just city and country name\n",
    "# split new slug and take the first and last split item\n",
    "# to create a \"final slug\" this will then be cleaned\n",
    "# and split to create canonical city and country\n",
    "def parse_third_cleaning(infile, outfile):\n",
    "    outrows = []\n",
    "    header = []\n",
    "    with open(infile, 'r') as f:\n",
    "        reader = csv.reader(f)\n",
    "        header = next(reader)\n",
    "        header.append('final_slug')\n",
    "        for row in reader:\n",
    "            id, city, div1, div2, slug, new_slug = row\n",
    "            split_slug = slug.split(',')\n",
    "            if len(split_slug) > 1:\n",
    "                city = split_slug[0]\n",
    "                country = split_slug[-1]\n",
    "                final_slug = '{},{}'.format(city, country)\n",
    "            else:\n",
    "                final_slug = split_slug[0]\n",
    "            new_row = new_row = [id, city, div1, div2, slug, new_slug, final_slug]\n",
    "            outrows.append(new_row)\n",
    "    with open(outfile, 'w') as new_f:\n",
    "        writer = csv.writer(new_f)\n",
    "        writer.writerow(header)\n",
    "        writer.writerows(outrows) "
   ]
  },
  {
   "cell_type": "code",
   "execution_count": 4,
   "metadata": {
    "collapsed": true
   },
   "outputs": [],
   "source": [
    "# parse_third_cleaning('data/top_locs_third_cleaning_oct_8_2016.csv', 'data/final_cleaning_oct11_2016.csv')"
   ]
  },
  {
   "cell_type": "markdown",
   "metadata": {},
   "source": [
    "A quick analysis of our cleaning -"
   ]
  },
  {
   "cell_type": "code",
   "execution_count": 9,
   "metadata": {
    "collapsed": true
   },
   "outputs": [],
   "source": [
    "def get_new_slugs(infile, slug_map):\n",
    "    new_slugs = {}\n",
    "    with open(infile, 'r') as f:\n",
    "        reader = csv.reader(f)\n",
    "        header = next(reader)\n",
    "        for row in reader:\n",
    "            _, _, _, _, slug, _, final_slug = row\n",
    "            new_slugs.setdefault(final_slug, [])\n",
    "            new_slugs[final_slug] += slug_map[slug]\n",
    "    return new_slugs"
   ]
  },
  {
   "cell_type": "code",
   "execution_count": 10,
   "metadata": {
    "collapsed": true
   },
   "outputs": [],
   "source": [
    "new_slugs = get_new_slugs('data/final_cleaning_oct11_2016.csv', slug_row_map)"
   ]
  },
  {
   "cell_type": "code",
   "execution_count": 11,
   "metadata": {
    "collapsed": false
   },
   "outputs": [
    {
     "data": {
      "text/plain": [
       "31409"
      ]
     },
     "execution_count": 11,
     "metadata": {},
     "output_type": "execute_result"
    }
   ],
   "source": [
    "len(new_slugs.keys())"
   ]
  },
  {
   "cell_type": "code",
   "execution_count": 12,
   "metadata": {
    "collapsed": true
   },
   "outputs": [],
   "source": [
    "# Sort into most common combination of three loc keys\n",
    "import operator\n",
    "d = {k: len(v) for k, v in new_slugs.items()}\n",
    "s = sorted(d.items(), key=operator.itemgetter(1), reverse=True)"
   ]
  },
  {
   "cell_type": "code",
   "execution_count": 13,
   "metadata": {
    "collapsed": false
   },
   "outputs": [
    {
     "data": {
      "text/plain": [
       "31409"
      ]
     },
     "execution_count": 13,
     "metadata": {},
     "output_type": "execute_result"
    }
   ],
   "source": [
    "len(s)"
   ]
  },
  {
   "cell_type": "code",
   "execution_count": 14,
   "metadata": {
    "collapsed": false,
    "scrolled": true
   },
   "outputs": [
    {
     "data": {
      "text/plain": [
       "420"
      ]
     },
     "execution_count": 14,
     "metadata": {},
     "output_type": "execute_result"
    }
   ],
   "source": [
    "# Find keys with more than one row\n",
    "short = [x for x in s if x[1] > 1000]\n",
    "len(short)"
   ]
  },
  {
   "cell_type": "code",
   "execution_count": 15,
   "metadata": {
    "collapsed": false
   },
   "outputs": [],
   "source": [
    "short_d = {k: v for k, v in d.items() if v > 999}"
   ]
  },
  {
   "cell_type": "code",
   "execution_count": 16,
   "metadata": {
    "collapsed": false
   },
   "outputs": [
    {
     "data": {
      "text/plain": [
       "12289892"
      ]
     },
     "execution_count": 16,
     "metadata": {},
     "output_type": "execute_result"
    }
   ],
   "source": [
    "sum(short_d.values())"
   ]
  },
  {
   "cell_type": "markdown",
   "metadata": {},
   "source": [
    "So, on Oct. 19 our clean is level in 420 place names cover 12,289,892 records"
   ]
  },
  {
   "cell_type": "code",
   "execution_count": 17,
   "metadata": {
    "collapsed": false
   },
   "outputs": [],
   "source": [
    "def merge_slugs(df, slugs):\n",
    "    for k, v in slugs.items():\n",
    "        for i in v:\n",
    "            df[\"slug\"].iat[i] = k\n",
    "            splt = k.split(\",\")\n",
    "            city = splt[0]\n",
    "            country = \"\"\n",
    "            if len(splt) > 1:\n",
    "                country = splt[1]\n",
    "            df[\"canonical_city\"].iat[i] = city\n",
    "            df[\"canonical_country\"].iat[i] = country\n",
    "    return df"
   ]
  },
  {
   "cell_type": "code",
   "execution_count": 18,
   "metadata": {
    "collapsed": true
   },
   "outputs": [],
   "source": [
    "df = pd.read_csv(\"data/cleaned_texts.tsv\", sep=\"\\t\")"
   ]
  },
  {
   "cell_type": "code",
   "execution_count": 19,
   "metadata": {
    "collapsed": true
   },
   "outputs": [],
   "source": [
    "df[\"slug\"] = \"\"\n",
    "df[\"canonical_city\"] = \"\"\n",
    "df[\"canonical_country\"] = \"\""
   ]
  },
  {
   "cell_type": "code",
   "execution_count": 20,
   "metadata": {
    "collapsed": false
   },
   "outputs": [],
   "source": [
    "df = merge_slugs(df, new_slugs)"
   ]
  },
  {
   "cell_type": "code",
   "execution_count": 21,
   "metadata": {
    "collapsed": true
   },
   "outputs": [],
   "source": [
    "def to_int(x):\n",
    "    try:\n",
    "        return int(x)\n",
    "    except:\n",
    "        return 0\n",
    "\n",
    "df['pub_year'] = df['pub_year'].apply(to_int)"
   ]
  },
  {
   "cell_type": "code",
   "execution_count": 22,
   "metadata": {
    "collapsed": false
   },
   "outputs": [
    {
     "data": {
      "text/plain": [
       "13188245"
      ]
     },
     "execution_count": 22,
     "metadata": {},
     "output_type": "execute_result"
    }
   ],
   "source": [
    "len(df)"
   ]
  },
  {
   "cell_type": "code",
   "execution_count": 23,
   "metadata": {
    "collapsed": false
   },
   "outputs": [
    {
     "data": {
      "text/html": [
       "<div>\n",
       "<table border=\"1\" class=\"dataframe\">\n",
       "  <thead>\n",
       "    <tr style=\"text-align: right;\">\n",
       "      <th></th>\n",
       "      <th>control_number</th>\n",
       "      <th>title</th>\n",
       "      <th>uniform_title</th>\n",
       "      <th>author</th>\n",
       "      <th>publisher</th>\n",
       "      <th>pub_location</th>\n",
       "      <th>pub_year</th>\n",
       "      <th>translation</th>\n",
       "      <th>prev_language</th>\n",
       "      <th>slug</th>\n",
       "      <th>canonical_city</th>\n",
       "      <th>canonical_country</th>\n",
       "    </tr>\n",
       "  </thead>\n",
       "  <tbody>\n",
       "    <tr>\n",
       "      <th>0</th>\n",
       "      <td>1000686</td>\n",
       "      <td>chao</td>\n",
       "      <td>NaN</td>\n",
       "      <td>sauvajon, marc-gilbert</td>\n",
       "      <td>escelicer</td>\n",
       "      <td>madrid</td>\n",
       "      <td>1972</td>\n",
       "      <td>NaN</td>\n",
       "      <td>fre</td>\n",
       "      <td>madrid,spain</td>\n",
       "      <td>madrid</td>\n",
       "      <td>spain</td>\n",
       "    </tr>\n",
       "    <tr>\n",
       "      <th>1</th>\n",
       "      <td>10010674</td>\n",
       "      <td>el estado en los ochenta, un regimen policivo</td>\n",
       "      <td>NaN</td>\n",
       "      <td>rojas h., fernando</td>\n",
       "      <td>centro de investigacion y educacion popular</td>\n",
       "      <td>bogota</td>\n",
       "      <td>1978</td>\n",
       "      <td>NaN</td>\n",
       "      <td>NaN</td>\n",
       "      <td>bogota,colombia</td>\n",
       "      <td>bogota</td>\n",
       "      <td>colombia</td>\n",
       "    </tr>\n",
       "    <tr>\n",
       "      <th>2</th>\n",
       "      <td>10017901</td>\n",
       "      <td>animales literarios de chile</td>\n",
       "      <td>NaN</td>\n",
       "      <td>lafourcade, enrique</td>\n",
       "      <td>ediciones de la fourcade</td>\n",
       "      <td>santiago, chile</td>\n",
       "      <td>0</td>\n",
       "      <td>NaN</td>\n",
       "      <td>NaN</td>\n",
       "      <td>santiago,chile</td>\n",
       "      <td>santiago</td>\n",
       "      <td>chile</td>\n",
       "    </tr>\n",
       "    <tr>\n",
       "      <th>3</th>\n",
       "      <td>10043696</td>\n",
       "      <td>popular e popularizante</td>\n",
       "      <td>NaN</td>\n",
       "      <td>pavao junior, jose de almeida</td>\n",
       "      <td>universidade dos acores</td>\n",
       "      <td>ponta delgada</td>\n",
       "      <td>1981</td>\n",
       "      <td>NaN</td>\n",
       "      <td>NaN</td>\n",
       "      <td>ponta delgada</td>\n",
       "      <td>ponta delgada</td>\n",
       "      <td></td>\n",
       "    </tr>\n",
       "    <tr>\n",
       "      <th>4</th>\n",
       "      <td>10046413</td>\n",
       "      <td>una propuesta justicialista</td>\n",
       "      <td>NaN</td>\n",
       "      <td>amadeo, eduardo</td>\n",
       "      <td>fundacion para la democracia en argentina</td>\n",
       "      <td>buenos aires</td>\n",
       "      <td>1982</td>\n",
       "      <td>NaN</td>\n",
       "      <td>NaN</td>\n",
       "      <td>buenos aires,argentina</td>\n",
       "      <td>buenos aires</td>\n",
       "      <td>argentina</td>\n",
       "    </tr>\n",
       "    <tr>\n",
       "      <th>5</th>\n",
       "      <td>1005636</td>\n",
       "      <td>participacion del trabajador en la gestion de ...</td>\n",
       "      <td>NaN</td>\n",
       "      <td>pina, rolando e</td>\n",
       "      <td>ediciones depalma</td>\n",
       "      <td>buenos aires</td>\n",
       "      <td>1968</td>\n",
       "      <td>NaN</td>\n",
       "      <td>NaN</td>\n",
       "      <td>buenos aires,argentina</td>\n",
       "      <td>buenos aires</td>\n",
       "      <td>argentina</td>\n",
       "    </tr>\n",
       "    <tr>\n",
       "      <th>6</th>\n",
       "      <td>10066466</td>\n",
       "      <td>corona diccionario ingles-espanol, espanol-ingles</td>\n",
       "      <td>NaN</td>\n",
       "      <td>NaN</td>\n",
       "      <td>editorial everest</td>\n",
       "      <td>leon</td>\n",
       "      <td>1967</td>\n",
       "      <td>NaN</td>\n",
       "      <td>NaN</td>\n",
       "      <td>leon</td>\n",
       "      <td>leon</td>\n",
       "      <td></td>\n",
       "    </tr>\n",
       "    <tr>\n",
       "      <th>7</th>\n",
       "      <td>10067357</td>\n",
       "      <td>puerto rico enfermo</td>\n",
       "      <td>NaN</td>\n",
       "      <td>cartagena, rafael</td>\n",
       "      <td>editorial cultural</td>\n",
       "      <td>rio piedras, p.r</td>\n",
       "      <td>1983</td>\n",
       "      <td>NaN</td>\n",
       "      <td>NaN</td>\n",
       "      <td>rio piedras,puerto rico</td>\n",
       "      <td>rio piedras</td>\n",
       "      <td>puerto rico</td>\n",
       "    </tr>\n",
       "    <tr>\n",
       "      <th>8</th>\n",
       "      <td>10085177</td>\n",
       "      <td>contribuicao ao estudo do carcinoma primitivo ...</td>\n",
       "      <td>NaN</td>\n",
       "      <td>oliveira, candido de</td>\n",
       "      <td>rodrigues</td>\n",
       "      <td>rio de janeiro</td>\n",
       "      <td>1951</td>\n",
       "      <td>NaN</td>\n",
       "      <td>NaN</td>\n",
       "      <td>rio de janeiro,brazil</td>\n",
       "      <td>rio de janeiro</td>\n",
       "      <td>brazil</td>\n",
       "    </tr>\n",
       "    <tr>\n",
       "      <th>9</th>\n",
       "      <td>10085221</td>\n",
       "      <td>cuba</td>\n",
       "      <td>NaN</td>\n",
       "      <td>norton, francis l</td>\n",
       "      <td>publisher not identified</td>\n",
       "      <td>new york</td>\n",
       "      <td>1873</td>\n",
       "      <td>NaN</td>\n",
       "      <td>NaN</td>\n",
       "      <td>new york,usa</td>\n",
       "      <td>new york</td>\n",
       "      <td>usa</td>\n",
       "    </tr>\n",
       "  </tbody>\n",
       "</table>\n",
       "</div>"
      ],
      "text/plain": [
       "   control_number                                              title  \\\n",
       "0         1000686                                               chao   \n",
       "1        10010674      el estado en los ochenta, un regimen policivo   \n",
       "2        10017901                       animales literarios de chile   \n",
       "3        10043696                            popular e popularizante   \n",
       "4        10046413                        una propuesta justicialista   \n",
       "5         1005636  participacion del trabajador en la gestion de ...   \n",
       "6        10066466  corona diccionario ingles-espanol, espanol-ingles   \n",
       "7        10067357                                puerto rico enfermo   \n",
       "8        10085177  contribuicao ao estudo do carcinoma primitivo ...   \n",
       "9        10085221                                               cuba   \n",
       "\n",
       "  uniform_title                         author  \\\n",
       "0           NaN         sauvajon, marc-gilbert   \n",
       "1           NaN             rojas h., fernando   \n",
       "2           NaN            lafourcade, enrique   \n",
       "3           NaN  pavao junior, jose de almeida   \n",
       "4           NaN                amadeo, eduardo   \n",
       "5           NaN                pina, rolando e   \n",
       "6           NaN                            NaN   \n",
       "7           NaN              cartagena, rafael   \n",
       "8           NaN           oliveira, candido de   \n",
       "9           NaN              norton, francis l   \n",
       "\n",
       "                                     publisher      pub_location  pub_year  \\\n",
       "0                                    escelicer            madrid      1972   \n",
       "1  centro de investigacion y educacion popular            bogota      1978   \n",
       "2                     ediciones de la fourcade   santiago, chile         0   \n",
       "3                      universidade dos acores     ponta delgada      1981   \n",
       "4    fundacion para la democracia en argentina      buenos aires      1982   \n",
       "5                            ediciones depalma      buenos aires      1968   \n",
       "6                            editorial everest              leon      1967   \n",
       "7                           editorial cultural  rio piedras, p.r      1983   \n",
       "8                                    rodrigues    rio de janeiro      1951   \n",
       "9                     publisher not identified          new york      1873   \n",
       "\n",
       "   translation prev_language                     slug  canonical_city  \\\n",
       "0          NaN           fre             madrid,spain          madrid   \n",
       "1          NaN           NaN          bogota,colombia          bogota   \n",
       "2          NaN           NaN           santiago,chile        santiago   \n",
       "3          NaN           NaN            ponta delgada   ponta delgada   \n",
       "4          NaN           NaN   buenos aires,argentina    buenos aires   \n",
       "5          NaN           NaN   buenos aires,argentina    buenos aires   \n",
       "6          NaN           NaN                     leon            leon   \n",
       "7          NaN           NaN  rio piedras,puerto rico     rio piedras   \n",
       "8          NaN           NaN    rio de janeiro,brazil  rio de janeiro   \n",
       "9          NaN           NaN             new york,usa        new york   \n",
       "\n",
       "  canonical_country  \n",
       "0             spain  \n",
       "1          colombia  \n",
       "2             chile  \n",
       "3                    \n",
       "4         argentina  \n",
       "5         argentina  \n",
       "6                    \n",
       "7       puerto rico  \n",
       "8            brazil  \n",
       "9               usa  "
      ]
     },
     "execution_count": 23,
     "metadata": {},
     "output_type": "execute_result"
    }
   ],
   "source": [
    "df.head(10)"
   ]
  },
  {
   "cell_type": "code",
   "execution_count": 24,
   "metadata": {
    "collapsed": false
   },
   "outputs": [],
   "source": [
    "df = df[df.pub_year < 2017] "
   ]
  },
  {
   "cell_type": "code",
   "execution_count": 25,
   "metadata": {
    "collapsed": false
   },
   "outputs": [
    {
     "data": {
      "text/plain": [
       "13187290"
      ]
     },
     "execution_count": 25,
     "metadata": {},
     "output_type": "execute_result"
    }
   ],
   "source": [
    "len(df)"
   ]
  },
  {
   "cell_type": "code",
   "execution_count": 26,
   "metadata": {
    "collapsed": true
   },
   "outputs": [],
   "source": [
    "df = df[df.pub_year > 1450]"
   ]
  },
  {
   "cell_type": "code",
   "execution_count": 27,
   "metadata": {
    "collapsed": false
   },
   "outputs": [
    {
     "data": {
      "text/plain": [
       "10213098"
      ]
     },
     "execution_count": 27,
     "metadata": {},
     "output_type": "execute_result"
    }
   ],
   "source": [
    "len(df)"
   ]
  },
  {
   "cell_type": "code",
   "execution_count": 28,
   "metadata": {
    "collapsed": false
   },
   "outputs": [],
   "source": [
    "country_df = df[df.canonical_country != '']"
   ]
  },
  {
   "cell_type": "code",
   "execution_count": 29,
   "metadata": {
    "collapsed": false
   },
   "outputs": [
    {
     "data": {
      "text/plain": [
       "0.6663149230769231"
      ]
     },
     "execution_count": 29,
     "metadata": {},
     "output_type": "execute_result"
    }
   ],
   "source": [
    "len(country_df) / 13000000.0"
   ]
  },
  {
   "cell_type": "code",
   "execution_count": 30,
   "metadata": {
    "collapsed": false
   },
   "outputs": [
    {
     "name": "stderr",
     "output_type": "stream",
     "text": [
      "/home/davebshow/.virtualenvs/scientific3/lib/python3.4/site-packages/ipykernel/__main__.py:7: SettingWithCopyWarning: \n",
      "A value is trying to be set on a copy of a slice from a DataFrame.\n",
      "Try using .loc[row_indexer,col_indexer] = value instead\n",
      "\n",
      "See the caveats in the documentation: http://pandas.pydata.org/pandas-docs/stable/indexing.html#indexing-view-versus-copy\n"
     ]
    }
   ],
   "source": [
    "def make_slug(row):\n",
    "    title = str(row['title'])\n",
    "    author = str(row['author'])\n",
    "    slug = title + ',' + author\n",
    "    return slug\n",
    "\n",
    "country_df['text_slug'] = country_df.apply(make_slug, axis=1)"
   ]
  },
  {
   "cell_type": "code",
   "execution_count": 33,
   "metadata": {
    "collapsed": false
   },
   "outputs": [
    {
     "name": "stderr",
     "output_type": "stream",
     "text": [
      "/home/davebshow/.virtualenvs/scientific3/lib/python3.4/site-packages/ipykernel/__main__.py:10: SettingWithCopyWarning: \n",
      "A value is trying to be set on a copy of a slice from a DataFrame.\n",
      "Try using .loc[row_indexer,col_indexer] = value instead\n",
      "\n",
      "See the caveats in the documentation: http://pandas.pydata.org/pandas-docs/stable/indexing.html#indexing-view-versus-copy\n"
     ]
    }
   ],
   "source": [
    "def make_full_slug(row):\n",
    "    title = str(row['title'])\n",
    "    author = str(row['author'])\n",
    "    date = str(row['pub_year'])\n",
    "    loc = str(row['canonical_city'])\n",
    "    pub = str(row['publisher'])\n",
    "    slug = '{},{},{},{},{}'.format(title, author, loc, date, pub)\n",
    "    return slug\n",
    "\n",
    "country_df['full_text_slug'] = country_df.apply(make_full_slug, axis=1)"
   ]
  },
  {
   "cell_type": "code",
   "execution_count": 35,
   "metadata": {
    "collapsed": true
   },
   "outputs": [],
   "source": [
    "country_df.to_csv(\"data/cleaned_texts_oct19_2016.tsv\", sep=\"\\t\")"
   ]
  },
  {
   "cell_type": "code",
   "execution_count": 34,
   "metadata": {
    "collapsed": false
   },
   "outputs": [
    {
     "data": {
      "text/html": [
       "<div>\n",
       "<table border=\"1\" class=\"dataframe\">\n",
       "  <thead>\n",
       "    <tr style=\"text-align: right;\">\n",
       "      <th></th>\n",
       "      <th>control_number</th>\n",
       "      <th>title</th>\n",
       "      <th>uniform_title</th>\n",
       "      <th>author</th>\n",
       "      <th>publisher</th>\n",
       "      <th>pub_location</th>\n",
       "      <th>pub_year</th>\n",
       "      <th>translation</th>\n",
       "      <th>prev_language</th>\n",
       "      <th>slug</th>\n",
       "      <th>canonical_city</th>\n",
       "      <th>canonical_country</th>\n",
       "      <th>text_slug</th>\n",
       "      <th>full_text_slug</th>\n",
       "    </tr>\n",
       "  </thead>\n",
       "  <tbody>\n",
       "    <tr>\n",
       "      <th>0</th>\n",
       "      <td>1000686</td>\n",
       "      <td>chao</td>\n",
       "      <td>NaN</td>\n",
       "      <td>sauvajon, marc-gilbert</td>\n",
       "      <td>escelicer</td>\n",
       "      <td>madrid</td>\n",
       "      <td>1972</td>\n",
       "      <td>NaN</td>\n",
       "      <td>fre</td>\n",
       "      <td>madrid,spain</td>\n",
       "      <td>madrid</td>\n",
       "      <td>spain</td>\n",
       "      <td>chao,sauvajon, marc-gilbert</td>\n",
       "      <td>chao,sauvajon, marc-gilbert,madrid,1972,escelicer</td>\n",
       "    </tr>\n",
       "  </tbody>\n",
       "</table>\n",
       "</div>"
      ],
      "text/plain": [
       "   control_number title uniform_title                  author  publisher  \\\n",
       "0         1000686  chao           NaN  sauvajon, marc-gilbert  escelicer   \n",
       "\n",
       "  pub_location  pub_year  translation prev_language          slug  \\\n",
       "0       madrid      1972          NaN           fre  madrid,spain   \n",
       "\n",
       "  canonical_city canonical_country                    text_slug  \\\n",
       "0         madrid             spain  chao,sauvajon, marc-gilbert   \n",
       "\n",
       "                                      full_text_slug  \n",
       "0  chao,sauvajon, marc-gilbert,madrid,1972,escelicer  "
      ]
     },
     "execution_count": 34,
     "metadata": {},
     "output_type": "execute_result"
    }
   ],
   "source": [
    "country_df.head(1)"
   ]
  },
  {
   "cell_type": "code",
   "execution_count": 3,
   "metadata": {
    "collapsed": false
   },
   "outputs": [],
   "source": [
    "df = pd.read_csv(\"data/cleaned_texts_oct19_2016.tsv\", sep=\"\\t\")"
   ]
  },
  {
   "cell_type": "code",
   "execution_count": 4,
   "metadata": {
    "collapsed": false
   },
   "outputs": [
    {
     "data": {
      "text/plain": [
       "8662094"
      ]
     },
     "execution_count": 4,
     "metadata": {},
     "output_type": "execute_result"
    }
   ],
   "source": [
    "len(df)"
   ]
  },
  {
   "cell_type": "code",
   "execution_count": 5,
   "metadata": {
    "collapsed": true
   },
   "outputs": [],
   "source": [
    "df = df.drop_duplicates(subset='full_text_slug')"
   ]
  },
  {
   "cell_type": "code",
   "execution_count": 6,
   "metadata": {
    "collapsed": false
   },
   "outputs": [
    {
     "data": {
      "text/plain": [
       "7240272"
      ]
     },
     "execution_count": 6,
     "metadata": {},
     "output_type": "execute_result"
    }
   ],
   "source": [
    "len(df)"
   ]
  },
  {
   "cell_type": "code",
   "execution_count": 7,
   "metadata": {
    "collapsed": true
   },
   "outputs": [],
   "source": [
    "df.to_csv(\"data/cleaned_texts_oct19_2016.tsv\", sep=\"\\t\")"
   ]
  },
  {
   "cell_type": "code",
   "execution_count": null,
   "metadata": {
    "collapsed": true
   },
   "outputs": [],
   "source": []
  }
 ],
 "metadata": {
  "kernelspec": {
   "display_name": "Python 3",
   "language": "python",
   "name": "python3"
  },
  "language_info": {
   "codemirror_mode": {
    "name": "ipython",
    "version": 3
   },
   "file_extension": ".py",
   "mimetype": "text/x-python",
   "name": "python",
   "nbconvert_exporter": "python",
   "pygments_lexer": "ipython3",
   "version": "3.4.3"
  }
 },
 "nbformat": 4,
 "nbformat_minor": 0
}
