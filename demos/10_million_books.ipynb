{
 "cells": [
  {
   "cell_type": "code",
   "execution_count": 1,
   "metadata": {
    "collapsed": false
   },
   "outputs": [],
   "source": [
    "%matplotlib inline\n",
    "import pandas as pd\n",
    "import matplotlib.pyplot as plt"
   ]
  },
  {
   "cell_type": "markdown",
   "metadata": {},
   "source": [
    "##Ten Million Books"
   ]
  },
  {
   "cell_type": "markdown",
   "metadata": {},
   "source": [
    "### Cleaning\n",
    "####Basic Parsing\n",
    "\n",
    "* Marc21\n",
    "    * author -> 100, 110, 111\n",
    "    * title -> 244a, 244b\n",
    "    * pub. location -> 264a,b,c\n",
    "    \n",
    "####String Operations"
   ]
  },
  {
   "cell_type": "code",
   "execution_count": 2,
   "metadata": {
    "collapsed": false
   },
   "outputs": [
    {
     "data": {
      "text/plain": [
       "'historia de la inquisicion'"
      ]
     },
     "execution_count": 2,
     "metadata": {},
     "output_type": "execute_result"
    }
   ],
   "source": [
    "import string\n",
    "import unidecode\n",
    "s = \"Historia de la Inquisición' \"\n",
    "s = s.decode('utf-8')\n",
    "s = unidecode.unidecode(s)\n",
    "s = s.strip()\n",
    "s = s.strip(string.punctuation)\n",
    "s = s.lower()\n",
    "s"
   ]
  },
  {
   "cell_type": "markdown",
   "metadata": {},
   "source": [
    "####Geo Deduplication\n",
    "\n",
    "* Visual inpspection\n",
    "    * madrid, espana\n",
    "    * madrid [espana\n",
    "    * madrid (espana"
   ]
  },
  {
   "cell_type": "code",
   "execution_count": 3,
   "metadata": {
    "collapsed": false
   },
   "outputs": [
    {
     "data": {
      "text/plain": [
       "(['madrid', ' espana'], ['madrid ', 'espana'], ['madrid ', 'espana'])"
      ]
     },
     "execution_count": 3,
     "metadata": {},
     "output_type": "execute_result"
    }
   ],
   "source": [
    "f1 = \"madrid, espana\"\n",
    "f2 = \"madrid [espana\"\n",
    "f3 = \"madrid (espana\"\n",
    "(f1.split(\",\"), f2.split(\"[\"), f3.split(\"(\"))\n",
    "# ... A few more string operations like strip for whitespace etc."
   ]
  },
  {
   "cell_type": "code",
   "execution_count": 4,
   "metadata": {
    "collapsed": false
   },
   "outputs": [
    {
     "name": "stderr",
     "output_type": "stream",
     "text": [
      "/home/davebshow/.virtualenvs/scientific/local/lib/python2.7/site-packages/pandas/io/parsers.py:1139: DtypeWarning: Columns (0) have mixed types. Specify dtype option on import or set low_memory=False.\n",
      "  data = self._reader.read(nrows)\n"
     ]
    }
   ],
   "source": [
    "locs = pd.read_csv(\"../data/locs/just_split_locs.csv\")\n",
    "locs = locs[[\"Country\", \"City\"]].dropna(how=\"all\")"
   ]
  },
  {
   "cell_type": "code",
   "execution_count": 5,
   "metadata": {
    "collapsed": true
   },
   "outputs": [],
   "source": [
    "loc_groups = locs.groupby([\"City\", \"Country\"]).groups"
   ]
  },
  {
   "cell_type": "code",
   "execution_count": 6,
   "metadata": {
    "collapsed": false
   },
   "outputs": [
    {
     "data": {
      "text/plain": [
       "'Num. of unique country/city combinations: 124533'"
      ]
     },
     "execution_count": 6,
     "metadata": {},
     "output_type": "execute_result"
    }
   ],
   "source": [
    "\"Num. of unique country/city combinations: {0}\".format(len(loc_groups))"
   ]
  },
  {
   "cell_type": "code",
   "execution_count": 7,
   "metadata": {
    "collapsed": false
   },
   "outputs": [],
   "source": [
    "import operator\n",
    "d = {k: len(v) for k, v in loc_groups.items()}\n",
    "s = sorted(d.items(), key=operator.itemgetter(1), reverse=True)"
   ]
  },
  {
   "cell_type": "code",
   "execution_count": 8,
   "metadata": {
    "collapsed": false
   },
   "outputs": [
    {
     "data": {
      "text/plain": [
       "'Percent of data set covered by 5000 most common combos: 0.97185261794'"
      ]
     },
     "execution_count": 8,
     "metadata": {},
     "output_type": "execute_result"
    }
   ],
   "source": [
    "\"Percent of data set covered by 5000 most common combos: {0}\".format(\n",
    "    sum([count for loc, count in s[:5000]]) / float(len(locs)))"
   ]
  },
  {
   "cell_type": "markdown",
   "metadata": {
    "collapsed": true
   },
   "source": [
    "* The vast majority of the rest of the combinations are:\n",
    "    * Impossible to deduplicate\n",
    "        * Years\n",
    "        * String fragments\n",
    "        * Improperly labeled fields\n",
    "        * ...\n",
    "    * Deduplicating the 5000 most common becomes a trivial task"
   ]
  },
  {
   "cell_type": "code",
   "execution_count": 9,
   "metadata": {
    "collapsed": true
   },
   "outputs": [],
   "source": [
    "text_df = pd.read_csv(\"../data/geo_cleaned_texts.tsv\", sep=\"\\t\")"
   ]
  },
  {
   "cell_type": "code",
   "execution_count": 11,
   "metadata": {
    "collapsed": false
   },
   "outputs": [],
   "source": [
    "clean_locs = text_df.groupby(\"slug\")"
   ]
  },
  {
   "cell_type": "code",
   "execution_count": 14,
   "metadata": {
    "collapsed": false
   },
   "outputs": [],
   "source": [
    "counted = clean_locs.count()[\"control_number\"]"
   ]
  },
  {
   "cell_type": "code",
   "execution_count": 20,
   "metadata": {
    "collapsed": false
   },
   "outputs": [
    {
     "data": {
      "text/plain": [
       "<matplotlib.axes._subplots.AxesSubplot at 0x7f26593c99d0>"
      ]
     },
     "execution_count": 20,
     "metadata": {},
     "output_type": "execute_result"
    },
    {
     "data": {
      "image/png": "[encoded data removed]",
      "text/plain": [
       "<matplotlib.figure.Figure at 0x7f26593e5e10>"
      ]
     },
     "metadata": {},
     "output_type": "display_data"
    }
   ],
   "source": [
    "counted.sort(inplace=False, ascending=False).ix[:10].plot(kind=\"bar\")"
   ]
  },
  {
   "cell_type": "code",
   "execution_count": 21,
   "metadata": {
    "collapsed": true
   },
   "outputs": [],
   "source": [
    "from fuzzywuzzy import fuzz\n",
    "cerv_df = text_df[\n",
    "    text_df.apply(\n",
    "        lambda x: fuzz.token_set_ratio(\"Miguel Cervantes\", x[\"author\"]) == 100 or \\\n",
    "        fuzz.token_sort_ratio(\"Miguel Cervantes\", x[\"author\"]) > 90, axis=1)]"
   ]
  },
  {
   "cell_type": "code",
   "execution_count": 23,
   "metadata": {
    "collapsed": false
   },
   "outputs": [
    {
     "data": {
      "text/html": [
       "<div style=\"max-height:1000px;max-width:1500px;overflow:auto;\">\n",
       "<table border=\"1\" class=\"dataframe\">\n",
       "  <thead>\n",
       "    <tr style=\"text-align: right;\">\n",
       "      <th></th>\n",
       "      <th>Unnamed: 0</th>\n",
       "      <th>control_number</th>\n",
       "      <th>title</th>\n",
       "      <th>uniform_title</th>\n",
       "      <th>author</th>\n",
       "      <th>publisher</th>\n",
       "      <th>pub_location</th>\n",
       "      <th>pub_year</th>\n",
       "      <th>translation</th>\n",
       "      <th>prev_language</th>\n",
       "      <th>slug</th>\n",
       "      <th>canonical_city</th>\n",
       "      <th>canonical_country</th>\n",
       "    </tr>\n",
       "  </thead>\n",
       "  <tbody>\n",
       "    <tr>\n",
       "      <th>682  </th>\n",
       "      <td>   682</td>\n",
       "      <td>  14379588</td>\n",
       "      <td>                      don quijote de la mancha</td>\n",
       "      <td>                      NaN</td>\n",
       "      <td> cervantes saavedra, miguel de</td>\n",
       "      <td>                       instituto de artes graficas</td>\n",
       "      <td> barcelona</td>\n",
       "      <td>      1963</td>\n",
       "      <td>NaN</td>\n",
       "      <td> NaN</td>\n",
       "      <td> barcelona, espana</td>\n",
       "      <td> barcelona</td>\n",
       "      <td>  espana</td>\n",
       "    </tr>\n",
       "    <tr>\n",
       "      <th>3211 </th>\n",
       "      <td>  3211</td>\n",
       "      <td>  26175251</td>\n",
       "      <td>                            novelas ejemplares</td>\n",
       "      <td>                      NaN</td>\n",
       "      <td> cervantes saavedra, miguel de</td>\n",
       "      <td>                                  v. blasco ibanez</td>\n",
       "      <td>    madrid</td>\n",
       "      <td>  1912?-14</td>\n",
       "      <td>NaN</td>\n",
       "      <td> NaN</td>\n",
       "      <td>    madrid, espana</td>\n",
       "      <td>    madrid</td>\n",
       "      <td>  espana</td>\n",
       "    </tr>\n",
       "    <tr>\n",
       "      <th>3473 </th>\n",
       "      <td>  3473</td>\n",
       "      <td> 277158502</td>\n",
       "      <td> el ingenioso hidalgo don quijote de la mancha</td>\n",
       "      <td>              don quixote</td>\n",
       "      <td> cervantes saavedra, miguel de</td>\n",
       "      <td>                                              zeus</td>\n",
       "      <td> barcelona</td>\n",
       "      <td>      1968</td>\n",
       "      <td>NaN</td>\n",
       "      <td> NaN</td>\n",
       "      <td> barcelona, espana</td>\n",
       "      <td> barcelona</td>\n",
       "      <td>  espana</td>\n",
       "    </tr>\n",
       "    <tr>\n",
       "      <th>6130 </th>\n",
       "      <td>  6130</td>\n",
       "      <td> 431282582</td>\n",
       "      <td>                            novelas ejemplares</td>\n",
       "      <td>                      NaN</td>\n",
       "      <td> cervantes saavedra, miguel de</td>\n",
       "      <td>                                          juventud</td>\n",
       "      <td> barcelona</td>\n",
       "      <td>      1974</td>\n",
       "      <td>NaN</td>\n",
       "      <td> NaN</td>\n",
       "      <td> barcelona, espana</td>\n",
       "      <td> barcelona</td>\n",
       "      <td>  espana</td>\n",
       "    </tr>\n",
       "    <tr>\n",
       "      <th>9046 </th>\n",
       "      <td>  9046</td>\n",
       "      <td> 433771035</td>\n",
       "      <td>     el casamiento enganosoy las dos doncellas</td>\n",
       "      <td>   el casamiento enganoso</td>\n",
       "      <td> cervantes saavedra, miguel de</td>\n",
       "      <td>                                              ebro</td>\n",
       "      <td>    madrid</td>\n",
       "      <td>      1977</td>\n",
       "      <td>NaN</td>\n",
       "      <td> NaN</td>\n",
       "      <td>    madrid, espana</td>\n",
       "      <td>    madrid</td>\n",
       "      <td>  espana</td>\n",
       "    </tr>\n",
       "    <tr>\n",
       "      <th>9639 </th>\n",
       "      <td>  9639</td>\n",
       "      <td> 434249007</td>\n",
       "      <td> el ingenioso hidalgo don quijote de la mancha</td>\n",
       "      <td> don quijote de la mancha</td>\n",
       "      <td> cervantes saavedra, miguel de</td>\n",
       "      <td>                                            gredos</td>\n",
       "      <td>    madrid</td>\n",
       "      <td> d.l. 1987</td>\n",
       "      <td>NaN</td>\n",
       "      <td> NaN</td>\n",
       "      <td>    madrid, espana</td>\n",
       "      <td>    madrid</td>\n",
       "      <td>  espana</td>\n",
       "    </tr>\n",
       "    <tr>\n",
       "      <th>10281</th>\n",
       "      <td> 10281</td>\n",
       "      <td> 434685256</td>\n",
       "      <td>   o engenhoso fidalgo d. quixote de la mancha</td>\n",
       "      <td>                      NaN</td>\n",
       "      <td> cervantes saavedra, miguel de</td>\n",
       "      <td>                                          ediclube</td>\n",
       "      <td> alfragide</td>\n",
       "      <td>      1990</td>\n",
       "      <td>NaN</td>\n",
       "      <td> spa</td>\n",
       "      <td>       alfragide, </td>\n",
       "      <td> alfragide</td>\n",
       "      <td>        </td>\n",
       "    </tr>\n",
       "    <tr>\n",
       "      <th>12670</th>\n",
       "      <td> 12670</td>\n",
       "      <td> 491928954</td>\n",
       "      <td>                                         obras</td>\n",
       "      <td>                      NaN</td>\n",
       "      <td> cervantes saavedra, miguel de</td>\n",
       "      <td>                                   ediciones atlas</td>\n",
       "      <td>    madrid</td>\n",
       "      <td>      1945</td>\n",
       "      <td>NaN</td>\n",
       "      <td> NaN</td>\n",
       "      <td>    madrid, espana</td>\n",
       "      <td>    madrid</td>\n",
       "      <td>  espana</td>\n",
       "    </tr>\n",
       "    <tr>\n",
       "      <th>12799</th>\n",
       "      <td> 12799</td>\n",
       "      <td> 492758475</td>\n",
       "      <td> el ingenioso hidalgo don quijote de la mancha</td>\n",
       "      <td>                      NaN</td>\n",
       "      <td> cervantes saavedra, miguel de</td>\n",
       "      <td>                                         r. sopena</td>\n",
       "      <td> barcelona</td>\n",
       "      <td>      1969</td>\n",
       "      <td>NaN</td>\n",
       "      <td> NaN</td>\n",
       "      <td> barcelona, espana</td>\n",
       "      <td> barcelona</td>\n",
       "      <td>  espana</td>\n",
       "    </tr>\n",
       "    <tr>\n",
       "      <th>12913</th>\n",
       "      <td> 12913</td>\n",
       "      <td> 493641967</td>\n",
       "      <td>                            obras completas de</td>\n",
       "      <td>                      NaN</td>\n",
       "      <td> cervantes saavedra, miguel de</td>\n",
       "      <td> tipogr. de la revista de archivos bibliotecas ...</td>\n",
       "      <td>    madrid</td>\n",
       "      <td>      1923</td>\n",
       "      <td>NaN</td>\n",
       "      <td> NaN</td>\n",
       "      <td>    madrid, espana</td>\n",
       "      <td>    madrid</td>\n",
       "      <td>  espana</td>\n",
       "    </tr>\n",
       "  </tbody>\n",
       "</table>\n",
       "</div>"
      ],
      "text/plain": [
       "       Unnamed: 0  control_number  \\\n",
       "682           682        14379588   \n",
       "3211         3211        26175251   \n",
       "3473         3473       277158502   \n",
       "6130         6130       431282582   \n",
       "9046         9046       433771035   \n",
       "9639         9639       434249007   \n",
       "10281       10281       434685256   \n",
       "12670       12670       491928954   \n",
       "12799       12799       492758475   \n",
       "12913       12913       493641967   \n",
       "\n",
       "                                               title  \\\n",
       "682                         don quijote de la mancha   \n",
       "3211                              novelas ejemplares   \n",
       "3473   el ingenioso hidalgo don quijote de la mancha   \n",
       "6130                              novelas ejemplares   \n",
       "9046       el casamiento enganosoy las dos doncellas   \n",
       "9639   el ingenioso hidalgo don quijote de la mancha   \n",
       "10281    o engenhoso fidalgo d. quixote de la mancha   \n",
       "12670                                          obras   \n",
       "12799  el ingenioso hidalgo don quijote de la mancha   \n",
       "12913                             obras completas de   \n",
       "\n",
       "                  uniform_title                         author  \\\n",
       "682                         NaN  cervantes saavedra, miguel de   \n",
       "3211                        NaN  cervantes saavedra, miguel de   \n",
       "3473                don quixote  cervantes saavedra, miguel de   \n",
       "6130                        NaN  cervantes saavedra, miguel de   \n",
       "9046     el casamiento enganoso  cervantes saavedra, miguel de   \n",
       "9639   don quijote de la mancha  cervantes saavedra, miguel de   \n",
       "10281                       NaN  cervantes saavedra, miguel de   \n",
       "12670                       NaN  cervantes saavedra, miguel de   \n",
       "12799                       NaN  cervantes saavedra, miguel de   \n",
       "12913                       NaN  cervantes saavedra, miguel de   \n",
       "\n",
       "                                               publisher pub_location  \\\n",
       "682                          instituto de artes graficas    barcelona   \n",
       "3211                                    v. blasco ibanez       madrid   \n",
       "3473                                                zeus    barcelona   \n",
       "6130                                            juventud    barcelona   \n",
       "9046                                                ebro       madrid   \n",
       "9639                                              gredos       madrid   \n",
       "10281                                           ediclube    alfragide   \n",
       "12670                                    ediciones atlas       madrid   \n",
       "12799                                          r. sopena    barcelona   \n",
       "12913  tipogr. de la revista de archivos bibliotecas ...       madrid   \n",
       "\n",
       "        pub_year  translation prev_language               slug canonical_city  \\\n",
       "682         1963          NaN           NaN  barcelona, espana      barcelona   \n",
       "3211    1912?-14          NaN           NaN     madrid, espana         madrid   \n",
       "3473        1968          NaN           NaN  barcelona, espana      barcelona   \n",
       "6130        1974          NaN           NaN  barcelona, espana      barcelona   \n",
       "9046        1977          NaN           NaN     madrid, espana         madrid   \n",
       "9639   d.l. 1987          NaN           NaN     madrid, espana         madrid   \n",
       "10281       1990          NaN           spa        alfragide,       alfragide   \n",
       "12670       1945          NaN           NaN     madrid, espana         madrid   \n",
       "12799       1969          NaN           NaN  barcelona, espana      barcelona   \n",
       "12913       1923          NaN           NaN     madrid, espana         madrid   \n",
       "\n",
       "      canonical_country  \n",
       "682              espana  \n",
       "3211             espana  \n",
       "3473             espana  \n",
       "6130             espana  \n",
       "9046             espana  \n",
       "9639             espana  \n",
       "10281                    \n",
       "12670            espana  \n",
       "12799            espana  \n",
       "12913            espana  "
      ]
     },
     "execution_count": 23,
     "metadata": {},
     "output_type": "execute_result"
    }
   ],
   "source": [
    "cerv_df.head(10)"
   ]
  },
  {
   "cell_type": "code",
   "execution_count": 24,
   "metadata": {
    "collapsed": false
   },
   "outputs": [
    {
     "data": {
      "text/plain": [
       "13165"
      ]
     },
     "execution_count": 24,
     "metadata": {},
     "output_type": "execute_result"
    }
   ],
   "source": [
    "len(cerv_df)"
   ]
  },
  {
   "cell_type": "code",
   "execution_count": 34,
   "metadata": {
    "collapsed": false
   },
   "outputs": [
    {
     "data": {
      "text/plain": [
       "slug\n",
       "madrid, espana    5478\n",
       "Name: control_number, dtype: int64"
      ]
     },
     "execution_count": 34,
     "metadata": {},
     "output_type": "execute_result"
    }
   ],
   "source": [
    "cerv_locs = cerv_df.groupby(\"slug\")\n",
    "counted_cerv_locs = cerv_locs.count()[\"control_number\"]\n",
    "counted_cerv_locs.sort(inplace=False, ascending=False).ix[:1]"
   ]
  },
  {
   "cell_type": "markdown",
   "metadata": {},
   "source": [
    "####Author/Text Deduplication"
   ]
  },
  {
   "cell_type": "code",
   "execution_count": 48,
   "metadata": {
    "collapsed": true
   },
   "outputs": [],
   "source": [
    "text_groups = text_df.groupby([\"author\", \"title\"]).groups"
   ]
  },
  {
   "cell_type": "code",
   "execution_count": 49,
   "metadata": {
    "collapsed": false
   },
   "outputs": [
    {
     "data": {
      "text/plain": [
       "'Num. of unique title/author combinations: 8682520'"
      ]
     },
     "execution_count": 49,
     "metadata": {},
     "output_type": "execute_result"
    }
   ],
   "source": [
    "\"Num. of unique title/author combinations: {0}\".format(len(text_groups))"
   ]
  },
  {
   "cell_type": "code",
   "execution_count": 50,
   "metadata": {
    "collapsed": true
   },
   "outputs": [],
   "source": [
    "d = {k: len(v) for k, v in text_groups.items()}\n",
    "s = sorted(d.items(), key=operator.itemgetter(1), reverse=True)"
   ]
  },
  {
   "cell_type": "code",
   "execution_count": 51,
   "metadata": {
    "collapsed": false
   },
   "outputs": [
    {
     "data": {
      "text/plain": [
       "'Percent of data set covered by non-singleton combos: 0.493297250696'"
      ]
     },
     "execution_count": 51,
     "metadata": {},
     "output_type": "execute_result"
    }
   ],
   "source": [
    "\"Percent of data set covered by non-singleton combos: {0}\".format(\n",
    "    sum([count for loc, count in s[:2000000]]) / float(len(text_df)))"
   ]
  },
  {
   "cell_type": "code",
   "execution_count": 52,
   "metadata": {
    "collapsed": true
   },
   "outputs": [],
   "source": [
    "def prob_dist(d):\n",
    "    probs = {}\n",
    "    for k, v in d.items():\n",
    "        probs.setdefault(v, 0)\n",
    "        probs[v] += 1\n",
    "    return probs\n",
    "probs = prob_dist(d)"
   ]
  },
  {
   "cell_type": "code",
   "execution_count": 56,
   "metadata": {
    "collapsed": false
   },
   "outputs": [
    {
     "data": {
      "text/plain": [
       "(6, 47136)"
      ]
     },
     "execution_count": 56,
     "metadata": {},
     "output_type": "execute_result"
    }
   ],
   "source": [
    "probs.items()[5]"
   ]
  },
  {
   "cell_type": "code",
   "execution_count": 55,
   "metadata": {
    "collapsed": false
   },
   "outputs": [
    {
     "data": {
      "text/plain": [
       "<matplotlib.collections.PathCollection at 0x7f39ad52ed90>"
      ]
     },
     "execution_count": 55,
     "metadata": {},
     "output_type": "execute_result"
    },
    {
     "data": {
      "image/png": "[encoded data removed]",
      "text/plain": [
       "<matplotlib.figure.Figure at 0x7f39ad78ea50>"
      ]
     },
     "metadata": {},
     "output_type": "display_data"
    }
   ],
   "source": [
    "plt.xscale(\"log\")\n",
    "plt.yscale(\"log\")\n",
    "plt.scatter(probs.keys(), probs.values())"
   ]
  },
  {
   "cell_type": "markdown",
   "metadata": {
    "collapsed": true
   },
   "source": [
    "* Problematic!\n",
    "\n",
    "    * El ingenioso hidalgo don Quixote de la Mancha, Cervantes, Miguel de\n",
    "    * Don Quixote de la Mancha, Cervantes, Miguel de\n",
    "  \n",
    "    * Rimas, Lope de Vega\n",
    "    * Rimas sacras, Lope de Vega\n",
    "    * Rimas sacras para el ..., Lope de Vega\n",
    "\n",
    "* String comparisons?\n",
    "\n",
    "    * 8,682,520 * 8,682,519 / 2 = Tens of Trillions!!!!"
   ]
  },
  {
   "cell_type": "code",
   "execution_count": 58,
   "metadata": {
    "collapsed": false
   },
   "outputs": [
    {
     "data": {
      "text/plain": [
       "37693072433940"
      ]
     },
     "execution_count": 58,
     "metadata": {},
     "output_type": "execute_result"
    }
   ],
   "source": [
    "num_texts = 8682520\n",
    "(num_texts * (num_texts - 1)) / 2"
   ]
  },
  {
   "cell_type": "markdown",
   "metadata": {},
   "source": [
    "* How many duplicates are there...really?\n",
    "\n",
    "    * Visual inspection: other than title inconsistencies, data is quite well formatted.\n",
    "    * Still...enter Datamade's Dedupe library.\n",
    "        * Chunks of 200,000 records\n",
    "        * Only about 1% are deduplicated with a confidence of over %10\n",
    "        * Only about 0.1% are deduplicated with a confidence of over %50\n",
    "    * However, there are duplicates, but mainly in the non-singleton texts...\n",
    "    * Best method for handling this? Accept as a source of bias? Try to clean top two million...?"
   ]
  },
  {
   "cell_type": "markdown",
   "metadata": {
    "collapsed": true
   },
   "source": [
    "## Preliminaries Project"
   ]
  },
  {
   "cell_type": "markdown",
   "metadata": {},
   "source": [
    "### A projected social network of Spanish Golden Age Publishing\n",
    "\n",
    "<img src=\"images/minimum_tree.png\">\n",
    "\n",
    "\n",
    "<img src=\"images/we_choro.png\">"
   ]
  },
  {
   "cell_type": "code",
   "execution_count": null,
   "metadata": {
    "collapsed": true
   },
   "outputs": [],
   "source": []
  }
 ],
 "metadata": {
  "kernelspec": {
   "display_name": "Python 2",
   "language": "python",
   "name": "python2"
  },
  "language_info": {
   "codemirror_mode": {
    "name": "ipython",
    "version": 2
   },
   "file_extension": ".py",
   "mimetype": "text/x-python",
   "name": "python",
   "nbconvert_exporter": "python",
   "pygments_lexer": "ipython2",
   "version": "2.7.6"
  }
 },
 "nbformat": 4,
 "nbformat_minor": 0
}
